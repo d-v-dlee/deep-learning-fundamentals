{
 "cells": [
  {
   "cell_type": "markdown",
   "metadata": {},
   "source": [
    "# Chapter 12: A Language model from scratch"
   ]
  },
  {
   "cell_type": "markdown",
   "metadata": {},
   "source": [
    "preparing dataset from karpathy makemore https://github.com/karpathy/makemore/blob/master/makemore.py and using shakespeare dataset "
   ]
  },
  {
   "cell_type": "code",
   "execution_count": 1,
   "metadata": {},
   "outputs": [],
   "source": [
    "from torch.utils.data import Dataset\n",
    "import torch\n",
    "\n",
    "class CharDataset(Dataset):\n",
    "\n",
    "    def __init__(self, words, chars, max_word_length):\n",
    "        self.words = words\n",
    "        self.chars = chars\n",
    "        self.max_word_length = max_word_length\n",
    "        # char to idx\n",
    "        self.stoi = {ch:i+1 for i,ch in enumerate(chars)}\n",
    "        # indx to char\n",
    "        self.itos = {i:s for s,i in self.stoi.items()} # inverse mapping\n",
    "\n",
    "    def __len__(self):\n",
    "        return len(self.words)\n",
    "\n",
    "    def contains(self, word):\n",
    "        return word in self.words\n",
    "\n",
    "    def get_vocab_size(self):\n",
    "        return len(self.chars) + 1 # all the possible characters and special 0 token\n",
    "\n",
    "    def get_output_length(self):\n",
    "        return self.max_word_length + 1 # <START> token followed by words\n",
    "\n",
    "    def encode(self, word):\n",
    "        ix = torch.tensor([self.stoi[w] for w in word], dtype=torch.long)\n",
    "        return ix\n",
    "\n",
    "    def decode(self, ix):\n",
    "        word = ''.join(self.itos[i] for i in ix)\n",
    "        return word\n",
    "\n",
    "    def __getitem__(self, idx):\n",
    "        \"\"\"so what is happening here is we encode then for\n",
    "        x: start at 1 to leave for start token\n",
    "        y: start at 0, so theyre offset. x->y pred; mask everything beyond that\"\"\"\n",
    "        word = self.words[idx]\n",
    "        ix = self.encode(word)\n",
    "        x = torch.zeros(self.max_word_length + 1, dtype=torch.long)\n",
    "        y = torch.zeros(self.max_word_length + 1, dtype=torch.long)\n",
    "        x[1:1+len(ix)] = ix # starts at 1 to leave 0 for the <START> token\n",
    "        y[:len(ix)] = ix\n",
    "        y[len(ix)+1:] = -1 # index -1 will mask the loss at the inactive locations\n",
    "        return x, y\n",
    "\n",
    "\n",
    "def create_datasets(input_file):\n",
    "\n",
    "    # preprocessing of the input text file\n",
    "    with open(input_file, 'r') as f:\n",
    "        data = f.read()\n",
    "    words = data.splitlines()\n",
    "    words = [w.strip() for w in words] # get rid of any leading or trailing white space\n",
    "    words = [w for w in words if w] # get rid of any empty strings\n",
    "    chars = sorted(list(set(''.join(words)))) # all the possible characters\n",
    "    max_word_length = max(len(w) for w in words)\n",
    "    print(f\"number of examples in the dataset: {len(words)}\")\n",
    "    print(f\"max word length: {max_word_length}\")\n",
    "    print(f\"number of unique characters in the vocabulary: {len(chars)}\")\n",
    "    print(\"vocabulary:\")\n",
    "    print(''.join(chars))\n",
    "\n",
    "    # partition the input data into a training and the test set\n",
    "    test_set_size = min(1000, int(len(words) * 0.1)) # 10% of the training set, or up to 1000 examples\n",
    "    rp = torch.randperm(len(words)).tolist()\n",
    "    train_words = [words[i] for i in rp[:-test_set_size]]\n",
    "    test_words = [words[i] for i in rp[-test_set_size:]]\n",
    "    print(f\"split up the dataset into {len(train_words)} training examples and {len(test_words)} test examples\")\n",
    "\n",
    "    # wrap in dataset objects\n",
    "    train_dataset = CharDataset(train_words, chars, max_word_length)\n",
    "    test_dataset = CharDataset(test_words, chars, max_word_length)\n",
    "\n",
    "    return train_dataset, test_dataset"
   ]
  },
  {
   "cell_type": "code",
   "execution_count": 2,
   "metadata": {},
   "outputs": [
    {
     "name": "stdout",
     "output_type": "stream",
     "text": [
      "number of examples in the dataset: 32777\n",
      "max word length: 63\n",
      "number of unique characters in the vocabulary: 64\n",
      "vocabulary:\n",
      " !$&',-.3:;?ABCDEFGHIJKLMNOPQRSTUVWXYZabcdefghijklmnopqrstuvwxyz\n",
      "split up the dataset into 31777 training examples and 1000 test examples\n",
      "dataset determined that: vocab_size=65, block_size=64\n"
     ]
    }
   ],
   "source": [
    "train_dataset, test_dataset = create_datasets('../data/input.txt')\n",
    "vocab_size = train_dataset.get_vocab_size() # unique characters\n",
    "block_size = train_dataset.get_output_length() # longest word + 1 char for start sequence\n",
    "print(f\"dataset determined that: {vocab_size=}, {block_size=}\")"
   ]
  },
  {
   "cell_type": "code",
   "execution_count": 3,
   "metadata": {},
   "outputs": [],
   "source": [
    "# ### detour to understand the __getitem__\n",
    "\n",
    "# def lol():\n",
    "#     word = train_dataset.words[0]\n",
    "#     print(f'WORD: {word}')\n",
    "#     print(f'LENGTH WORD: {len(word)}')\n",
    "#     ix = train_dataset.encode(word)\n",
    "#     print(ix)\n",
    "#     print(f'LENGTH IX: {len(ix)}') # should match since its idx:char mapping\n",
    "\n",
    "#     # that is 0th + longest sequence length\n",
    "#     x = torch.zeros(train_dataset.max_word_length + 1, dtype=torch.long)\n",
    "#     y = torch.zeros(train_dataset.max_word_length + 1, dtype=torch.long)\n",
    "#     print(f'X Y shape: {x.shape} {y.shape}')\n",
    "\n",
    "#     # so x and y are offset because 0 --> 32, 32 --> 46, etc\n",
    "#     x[1:1+len(ix)] = ix # start at 1; leave 0 for start token; rest is padded zeros for sequence length\n",
    "#     print(x)\n",
    "#     y[:len(ix)] = ix # start at 0, its the encoding\n",
    "#     y[len(ix)+1:] = -1 # mask the reset\n",
    "#     print(y)\n",
    "\n",
    "# lol()"
   ]
  },
  {
   "cell_type": "code",
   "execution_count": 4,
   "metadata": {},
   "outputs": [],
   "source": [
    "from torch.utils.data import DataLoader\n",
    "\n",
    "# Create data loaders with drop_last=True to ensure all batches have the same size\n",
    "train_loader = DataLoader(train_dataset, batch_size=64, shuffle=True, drop_last=True)\n",
    "test_loader = DataLoader(test_dataset, batch_size=64, shuffle=True, drop_last=True)"
   ]
  },
  {
   "cell_type": "code",
   "execution_count": 5,
   "metadata": {},
   "outputs": [
    {
     "name": "stderr",
     "output_type": "stream",
     "text": [
      "Epoch 1/10 [Train]: 100%|██████████| 496/496 [00:00<00:00, 1290.46it/s]\n",
      "Epoch 2/10 [Train]: 100%|██████████| 496/496 [00:00<00:00, 1291.95it/s]\n",
      "Epoch 3/10 [Train]: 100%|██████████| 496/496 [00:00<00:00, 1369.72it/s]\n",
      "Epoch 4/10 [Train]: 100%|██████████| 496/496 [00:00<00:00, 1354.00it/s]\n",
      "Epoch 5/10 [Train]: 100%|██████████| 496/496 [00:00<00:00, 1381.78it/s]\n",
      "Epoch 6/10 [Train]: 100%|██████████| 496/496 [00:00<00:00, 1384.04it/s]\n",
      "Epoch 7/10 [Train]: 100%|██████████| 496/496 [00:00<00:00, 1382.36it/s]\n",
      "Epoch 8/10 [Train]: 100%|██████████| 496/496 [00:00<00:00, 1398.81it/s]\n",
      "Epoch 9/10 [Train]: 100%|██████████| 496/496 [00:00<00:00, 1394.99it/s]\n",
      "Epoch 10/10 [Train]: 100%|██████████| 496/496 [00:00<00:00, 1388.43it/s]"
     ]
    },
    {
     "name": "stdout",
     "output_type": "stream",
     "text": [
      "torch.Size([64, 64]) torch.Size([64, 64])\n"
     ]
    },
    {
     "name": "stderr",
     "output_type": "stream",
     "text": [
      "\n"
     ]
    }
   ],
   "source": [
    "from tqdm import tqdm\n",
    "\n",
    "num_epochs = 10\n",
    "\n",
    "for epoch in range(num_epochs):\n",
    "    progress_bar = tqdm(train_loader, desc=f'Epoch {epoch+1}/{num_epochs} [Train]')\n",
    "    for batch in progress_bar:\n",
    "        X, Y = batch\n",
    "\n",
    "print(X.size(), Y.size())"
   ]
  },
  {
   "cell_type": "code",
   "execution_count": 6,
   "metadata": {},
   "outputs": [
    {
     "data": {
      "text/plain": [
       "(torch.Size([64, 64]), torch.Size([64, 64]))"
      ]
     },
     "execution_count": 6,
     "metadata": {},
     "output_type": "execute_result"
    }
   ],
   "source": [
    "X.size(), Y.size()"
   ]
  },
  {
   "cell_type": "markdown",
   "metadata": {},
   "source": [
    "### start with simple RNN"
   ]
  },
  {
   "cell_type": "code",
   "execution_count": 35,
   "metadata": {},
   "outputs": [],
   "source": [
    "import torch.nn as nn\n",
    "import torch\n",
    "import torch.nn.functional as F \n",
    "\n",
    "mps_device = torch.device('mps')\n",
    "\n",
    "\n",
    "class RNN(nn.Module):\n",
    "    def __init__(self, vocab_size, hidden_size):\n",
    "        super(RNN, self).__init__()\n",
    "\n",
    "        self.hidden_size = hidden_size\n",
    "\n",
    "        self.i2h = nn.Embedding(vocab_size, hidden_size)\n",
    "        self.h2h = nn.Linear(hidden_size, hidden_size)\n",
    "        self.h2o = nn.Linear(hidden_size, vocab_size)\n",
    "    \n",
    "    def forward(self, inputs, targets=None):\n",
    "        batch_size, sequence_length = inputs.size()\n",
    "        device = inputs.device\n",
    "\n",
    "        h_prev = self.initHidden(batch_size, device)\n",
    "        hiddens = []\n",
    "        for i in range(sequence_length):\n",
    "            h = h_prev + self.i2h(inputs[:, i]) # embed and combine with hidden unit\n",
    "            h = F.tanh(h) # apply non-linearity)\n",
    "            h = self.h2h(h) # linear transform to hidden size\n",
    "            h_prev = h\n",
    "            hiddens.append(h)\n",
    "        \n",
    "        # decode the outputs\n",
    "        hidden = torch.stack(hiddens, dim=1)\n",
    "        logits = self.h2o(hidden)\n",
    "        h = h.detach()\n",
    "\n",
    "        # calculate loss if targets are provided\n",
    "        loss = None\n",
    "        if targets is not None:\n",
    "            if targets is not None:\n",
    "                loss = F.cross_entropy(logits.view(-1, logits.size(-1)), targets.view(-1), ignore_index=-1)\n",
    "        \n",
    "        return logits, loss\n",
    "        \n",
    "    \n",
    "    def initHidden(self, batch_size, device):\n",
    "        # Initialize the hidden state based on the current batch size\n",
    "        return torch.zeros(batch_size, self.hidden_size).to(device)"
   ]
  },
  {
   "cell_type": "code",
   "execution_count": 36,
   "metadata": {},
   "outputs": [],
   "source": [
    "@torch.inference_mode()\n",
    "def evaluate(model, dataset, batch_size=50, max_batches=None):\n",
    "    model.eval()\n",
    "    loader = DataLoader(dataset, shuffle=True, batch_size=batch_size, num_workers=0)\n",
    "    losses = []\n",
    "    total_correct = 0\n",
    "    total_predictions = 0\n",
    "\n",
    "    for i, batch in enumerate(loader):\n",
    "        batch = [t.to(mps_device) for t in batch]\n",
    "        X, Y = batch\n",
    "\n",
    "        logits, loss = model(X, Y)\n",
    "        losses.append(loss.item())\n",
    "\n",
    "        # Calculate accuracy\n",
    "        preds = torch.argmax(logits, dim=-1)  # Predictions\n",
    "        total_correct += (preds == Y).sum().item()  # Count correct predictions\n",
    "        total_predictions += Y.numel()  # Total number of predictions\n",
    "\n",
    "        if max_batches is not None and i >= max_batches:\n",
    "            break\n",
    "\n",
    "    mean_loss = torch.tensor(losses).mean().item()\n",
    "    accuracy = total_correct / total_predictions  # Calculate accuracy\n",
    "\n",
    "    model.train()  # Reset model back to training mode\n",
    "    return mean_loss, accuracy"
   ]
  },
  {
   "cell_type": "code",
   "execution_count": 37,
   "metadata": {},
   "outputs": [],
   "source": [
    "mps_device = torch.device('mps')\n",
    "hidden_size=64\n",
    "\n",
    "model = RNN(vocab_size, hidden_size)\n",
    "model.to(mps_device)\n",
    "optimizer = torch.optim.Adam(model.parameters())\n"
   ]
  },
  {
   "cell_type": "code",
   "execution_count": 51,
   "metadata": {},
   "outputs": [
    {
     "name": "stderr",
     "output_type": "stream",
     "text": [
      "Epoch 1/5 [Train]:   1%|          | 6/496 [00:00<00:17, 28.07it/s]"
     ]
    },
    {
     "name": "stdout",
     "output_type": "stream",
     "text": [
      "step 0 | loss 1.8545\n"
     ]
    },
    {
     "name": "stderr",
     "output_type": "stream",
     "text": [
      "Epoch 1/5 [Train]:  21%|██▏       | 106/496 [00:03<00:12, 30.55it/s]"
     ]
    },
    {
     "name": "stdout",
     "output_type": "stream",
     "text": [
      "step 100 | loss 1.9131\n"
     ]
    },
    {
     "name": "stderr",
     "output_type": "stream",
     "text": [
      "Epoch 1/5 [Train]:  41%|████      | 204/496 [00:06<00:10, 28.81it/s]"
     ]
    },
    {
     "name": "stdout",
     "output_type": "stream",
     "text": [
      "step 200 | loss 1.8504\n"
     ]
    },
    {
     "name": "stderr",
     "output_type": "stream",
     "text": [
      "Epoch 1/5 [Train]:  62%|██████▏   | 306/496 [00:10<00:06, 28.72it/s]"
     ]
    },
    {
     "name": "stdout",
     "output_type": "stream",
     "text": [
      "step 300 | loss 1.8463\n"
     ]
    },
    {
     "name": "stderr",
     "output_type": "stream",
     "text": [
      "Epoch 1/5 [Train]:  81%|████████▏ | 404/496 [00:13<00:02, 31.95it/s]"
     ]
    },
    {
     "name": "stdout",
     "output_type": "stream",
     "text": [
      "step 400 | loss 1.8252\n"
     ]
    },
    {
     "name": "stderr",
     "output_type": "stream",
     "text": [
      "Epoch 1/5 [Train]: 100%|██████████| 496/496 [00:16<00:00, 29.84it/s]\n",
      "Epoch 2/5 [Train]:   1%|          | 4/496 [00:00<00:16, 30.14it/s]"
     ]
    },
    {
     "name": "stdout",
     "output_type": "stream",
     "text": [
      "step 500 | loss 1.8420\n"
     ]
    },
    {
     "name": "stderr",
     "output_type": "stream",
     "text": [
      "Epoch 2/5 [Train]:   2%|▏         | 8/496 [00:00<00:37, 12.88it/s]"
     ]
    },
    {
     "name": "stdout",
     "output_type": "stream",
     "text": [
      "LOSS\n",
      "1.858009696006775 1.8755420446395874\n",
      "ACCURACY\n",
      "0.23464133522727273 0.23772638494318182\n"
     ]
    },
    {
     "name": "stderr",
     "output_type": "stream",
     "text": [
      "Epoch 2/5 [Train]:  22%|██▏       | 107/496 [00:03<00:12, 30.44it/s]"
     ]
    },
    {
     "name": "stdout",
     "output_type": "stream",
     "text": [
      "step 600 | loss 1.8327\n"
     ]
    },
    {
     "name": "stderr",
     "output_type": "stream",
     "text": [
      "Epoch 2/5 [Train]:  42%|████▏     | 208/496 [00:07<00:09, 30.32it/s]"
     ]
    },
    {
     "name": "stdout",
     "output_type": "stream",
     "text": [
      "step 700 | loss 1.8473\n"
     ]
    },
    {
     "name": "stderr",
     "output_type": "stream",
     "text": [
      "Epoch 2/5 [Train]:  62%|██████▏   | 308/496 [00:10<00:06, 31.18it/s]"
     ]
    },
    {
     "name": "stdout",
     "output_type": "stream",
     "text": [
      "step 800 | loss 1.8674\n"
     ]
    },
    {
     "name": "stderr",
     "output_type": "stream",
     "text": [
      "Epoch 2/5 [Train]:  82%|████████▏ | 408/496 [00:13<00:02, 30.32it/s]"
     ]
    },
    {
     "name": "stdout",
     "output_type": "stream",
     "text": [
      "step 900 | loss 1.9037\n"
     ]
    },
    {
     "name": "stderr",
     "output_type": "stream",
     "text": [
      "Epoch 2/5 [Train]: 100%|██████████| 496/496 [00:16<00:00, 29.93it/s]\n",
      "Epoch 3/5 [Train]:   1%|          | 6/496 [00:00<00:16, 29.25it/s]"
     ]
    },
    {
     "name": "stdout",
     "output_type": "stream",
     "text": [
      "step 1000 | loss 1.8607\n"
     ]
    },
    {
     "name": "stderr",
     "output_type": "stream",
     "text": [
      "Epoch 3/5 [Train]:   2%|▏         | 12/496 [00:00<00:29, 16.26it/s]"
     ]
    },
    {
     "name": "stdout",
     "output_type": "stream",
     "text": [
      "LOSS\n",
      "1.8779292106628418 1.8526597023010254\n",
      "ACCURACY\n",
      "0.23801491477272727 0.24400745738636365\n"
     ]
    },
    {
     "name": "stderr",
     "output_type": "stream",
     "text": [
      "Epoch 3/5 [Train]:  23%|██▎       | 114/496 [00:04<00:12, 31.32it/s]"
     ]
    },
    {
     "name": "stdout",
     "output_type": "stream",
     "text": [
      "step 1100 | loss 1.8864\n"
     ]
    },
    {
     "name": "stderr",
     "output_type": "stream",
     "text": [
      "Epoch 3/5 [Train]:  43%|████▎     | 215/496 [00:07<00:09, 29.45it/s]"
     ]
    },
    {
     "name": "stdout",
     "output_type": "stream",
     "text": [
      "step 1200 | loss 1.8089\n"
     ]
    },
    {
     "name": "stderr",
     "output_type": "stream",
     "text": [
      "Epoch 3/5 [Train]:  63%|██████▎   | 311/496 [00:10<00:06, 30.13it/s]"
     ]
    },
    {
     "name": "stdout",
     "output_type": "stream",
     "text": [
      "step 1300 | loss 1.8830\n"
     ]
    },
    {
     "name": "stderr",
     "output_type": "stream",
     "text": [
      "Epoch 3/5 [Train]:  84%|████████▎ | 415/496 [00:13<00:02, 31.44it/s]"
     ]
    },
    {
     "name": "stdout",
     "output_type": "stream",
     "text": [
      "step 1400 | loss 1.8254\n"
     ]
    },
    {
     "name": "stderr",
     "output_type": "stream",
     "text": [
      "Epoch 3/5 [Train]: 100%|██████████| 496/496 [00:16<00:00, 30.17it/s]\n",
      "Epoch 4/5 [Train]:   2%|▏         | 12/496 [00:00<00:15, 31.97it/s]"
     ]
    },
    {
     "name": "stdout",
     "output_type": "stream",
     "text": [
      "step 1500 | loss 1.8178\n"
     ]
    },
    {
     "name": "stderr",
     "output_type": "stream",
     "text": [
      "Epoch 4/5 [Train]:   3%|▎         | 16/496 [00:00<00:28, 16.71it/s]"
     ]
    },
    {
     "name": "stdout",
     "output_type": "stream",
     "text": [
      "LOSS\n",
      "1.8369488716125488 1.8403290510177612\n",
      "ACCURACY\n",
      "0.23790394176136365 0.2400790127840909\n"
     ]
    },
    {
     "name": "stderr",
     "output_type": "stream",
     "text": [
      "Epoch 4/5 [Train]:  23%|██▎       | 116/496 [00:03<00:12, 31.58it/s]"
     ]
    },
    {
     "name": "stdout",
     "output_type": "stream",
     "text": [
      "step 1600 | loss 1.7904\n"
     ]
    },
    {
     "name": "stderr",
     "output_type": "stream",
     "text": [
      "Epoch 4/5 [Train]:  44%|████▎     | 216/496 [00:07<00:08, 32.41it/s]"
     ]
    },
    {
     "name": "stdout",
     "output_type": "stream",
     "text": [
      "step 1700 | loss 1.7954\n"
     ]
    },
    {
     "name": "stderr",
     "output_type": "stream",
     "text": [
      "Epoch 4/5 [Train]:  64%|██████▎   | 316/496 [00:10<00:05, 30.94it/s]"
     ]
    },
    {
     "name": "stdout",
     "output_type": "stream",
     "text": [
      "step 1800 | loss 1.8780\n"
     ]
    },
    {
     "name": "stderr",
     "output_type": "stream",
     "text": [
      "Epoch 4/5 [Train]:  84%|████████▍ | 416/496 [00:13<00:02, 31.43it/s]"
     ]
    },
    {
     "name": "stdout",
     "output_type": "stream",
     "text": [
      "step 1900 | loss 1.7907\n"
     ]
    },
    {
     "name": "stderr",
     "output_type": "stream",
     "text": [
      "Epoch 4/5 [Train]: 100%|██████████| 496/496 [00:15<00:00, 31.05it/s]\n",
      "Epoch 5/5 [Train]:   3%|▎         | 16/496 [00:00<00:15, 31.12it/s]"
     ]
    },
    {
     "name": "stdout",
     "output_type": "stream",
     "text": [
      "step 2000 | loss 1.8256\n"
     ]
    },
    {
     "name": "stderr",
     "output_type": "stream",
     "text": [
      "Epoch 5/5 [Train]:   4%|▍         | 20/496 [00:00<00:27, 17.30it/s]"
     ]
    },
    {
     "name": "stdout",
     "output_type": "stream",
     "text": [
      "LOSS\n",
      "1.8139830827713013 1.835822582244873\n",
      "ACCURACY\n",
      "0.253173828125 0.24345259232954544\n"
     ]
    },
    {
     "name": "stderr",
     "output_type": "stream",
     "text": [
      "Epoch 5/5 [Train]:  24%|██▍       | 120/496 [00:04<00:11, 32.39it/s]"
     ]
    },
    {
     "name": "stdout",
     "output_type": "stream",
     "text": [
      "step 2100 | loss 1.7965\n"
     ]
    },
    {
     "name": "stderr",
     "output_type": "stream",
     "text": [
      "Epoch 5/5 [Train]:  44%|████▍     | 220/496 [00:07<00:08, 32.17it/s]"
     ]
    },
    {
     "name": "stdout",
     "output_type": "stream",
     "text": [
      "step 2200 | loss 1.8056\n"
     ]
    },
    {
     "name": "stderr",
     "output_type": "stream",
     "text": [
      "Epoch 5/5 [Train]:  65%|██████▍   | 320/496 [00:10<00:05, 31.12it/s]"
     ]
    },
    {
     "name": "stdout",
     "output_type": "stream",
     "text": [
      "step 2300 | loss 1.8396\n"
     ]
    },
    {
     "name": "stderr",
     "output_type": "stream",
     "text": [
      "Epoch 5/5 [Train]:  85%|████████▍ | 420/496 [00:13<00:02, 31.82it/s]"
     ]
    },
    {
     "name": "stdout",
     "output_type": "stream",
     "text": [
      "step 2400 | loss 1.8272\n"
     ]
    },
    {
     "name": "stderr",
     "output_type": "stream",
     "text": [
      "Epoch 5/5 [Train]: 100%|██████████| 496/496 [00:15<00:00, 31.10it/s]\n"
     ]
    }
   ],
   "source": [
    "from tqdm import tqdm\n",
    "\n",
    "num_epochs = 5\n",
    "\n",
    "step = 0\n",
    "for epoch in range(num_epochs):\n",
    "    progress_bar = tqdm(train_loader, desc=f'Epoch {epoch+1}/{num_epochs} [Train]')\n",
    "    \n",
    "    # get batch\n",
    "    for batch in progress_bar:\n",
    "        X, Y = batch\n",
    "        X, Y = X.to(mps_device), Y.to(mps_device)\n",
    "\n",
    "        # feed into the model\n",
    "        logits, loss = model(X, Y)\n",
    "\n",
    "        # calculate the gradient, update the weights\n",
    "        model.zero_grad(set_to_none=True)\n",
    "        loss.backward()\n",
    "        optimizer.step()\n",
    "\n",
    "        # logging\n",
    "        if step % 100 == 0:\n",
    "            print(f\"step {step} | loss {loss.item():.4f}\")\n",
    "        \n",
    "        if step > 0 and step % 500 == 0:\n",
    "            train_loss, train_accuracy = evaluate(model, train_dataset, batch_size=64, max_batches=10)\n",
    "            test_loss, test_accuracy  = evaluate(model, test_dataset,  batch_size=64, max_batches=10)\n",
    "            print(f'LOSS')\n",
    "            print(train_loss, test_loss)\n",
    "            print('ACCURACY')\n",
    "            print(train_accuracy, test_accuracy)\n",
    "        \n",
    "        step += 1"
   ]
  },
  {
   "cell_type": "code",
   "execution_count": 52,
   "metadata": {},
   "outputs": [],
   "source": [
    "def generate_sequence(model, start_sequence, length, stoi, itos):\n",
    "    model.eval()  # Set model to evaluation mode\n",
    "    \n",
    "    # Convert start sequence to tensor\n",
    "    input_indices = [stoi[char] for char in start_sequence]\n",
    "    input_tensor = torch.tensor([input_indices], dtype=torch.long).to(mps_device)\n",
    "    \n",
    "    # Generate sequence\n",
    "    generated_sequence = start_sequence\n",
    "    for _ in range(length - len(start_sequence)):\n",
    "        with torch.inference_mode():\n",
    "            logits, _ = model(input_tensor)\n",
    "            # Get last character from the last position\n",
    "            last_char_logits = logits[0, -1, :]\n",
    "            predicted_char_index = torch.argmax(last_char_logits).item()\n",
    "            predicted_char = itos[predicted_char_index]\n",
    "            \n",
    "            # Update the input for the next prediction\n",
    "            generated_sequence += predicted_char\n",
    "            input_tensor = torch.cat([input_tensor, torch.tensor([[predicted_char_index]], dtype=torch.long).to(mps_device)], dim=1)\n",
    "    \n",
    "    return generated_sequence\n"
   ]
  },
  {
   "cell_type": "code",
   "execution_count": 53,
   "metadata": {},
   "outputs": [
    {
     "name": "stdout",
     "output_type": "stream",
     "text": [
      "i am very interested with the shall the with the shall the with the shall the with the shall the with the shall the with the shall the with the shall \n"
     ]
    }
   ],
   "source": [
    "print(generate_sequence(model, 'i am very interested', 150, train_dataset.stoi, train_dataset.itos))"
   ]
  },
  {
   "cell_type": "markdown",
   "metadata": {},
   "source": [
    "### RNN with more layers"
   ]
  },
  {
   "cell_type": "code",
   "execution_count": 54,
   "metadata": {},
   "outputs": [],
   "source": [
    "import torch.nn as nn\n",
    "import torch\n",
    "import torch.nn.functional as F \n",
    "\n",
    "mps_device = torch.device('mps')\n",
    "\n",
    "\n",
    "class RNN(nn.Module):\n",
    "    def __init__(self, vocab_size, hidden_size):\n",
    "        super(RNN, self).__init__()\n",
    "\n",
    "        self.hidden_size = hidden_size\n",
    "\n",
    "        self.i2h = nn.Embedding(vocab_size, hidden_size)\n",
    "        self.h2h = nn.Linear(hidden_size, hidden_size)\n",
    "        self.h2h2 = nn.Linear(hidden_size, hidden_size) # second RNN layer\n",
    "        self.h2o = nn.Linear(hidden_size, vocab_size)\n",
    "    \n",
    "    def forward(self, inputs, targets=None):\n",
    "        batch_size, sequence_length = inputs.size()\n",
    "        device = inputs.device\n",
    "\n",
    "        h_prev = self.initHidden(batch_size, device)\n",
    "        hiddens = []\n",
    "        for i in range(sequence_length):\n",
    "            h = h_prev + self.i2h(inputs[:, i]) # embed and combine with hidden unit\n",
    "\n",
    "            # first RNN\n",
    "            h = F.tanh(h) # apply non-linearity)\n",
    "            h = self.h2h(h) # linear transform to hidden size\n",
    "\n",
    "            h = F.tanh(h) # apply non-linearity\n",
    "            h = self.h2h2(h)\n",
    "\n",
    "            h_prev = h\n",
    "            hiddens.append(h)\n",
    "        \n",
    "        # decode the outputs\n",
    "        hidden = torch.stack(hiddens, dim=1)\n",
    "        logits = self.h2o(hidden)\n",
    "        h = h.detach()\n",
    "\n",
    "        # calculate loss if targets are provided\n",
    "        loss = None\n",
    "        if targets is not None:\n",
    "            if targets is not None:\n",
    "                loss = F.cross_entropy(logits.view(-1, logits.size(-1)), targets.view(-1), ignore_index=-1)\n",
    "        \n",
    "        return logits, loss\n",
    "        \n",
    "    \n",
    "    def initHidden(self, batch_size, device):\n",
    "        # Initialize the hidden state based on the current batch size\n",
    "        return torch.zeros(batch_size, self.hidden_size).to(device)"
   ]
  },
  {
   "cell_type": "code",
   "execution_count": 55,
   "metadata": {},
   "outputs": [
    {
     "name": "stderr",
     "output_type": "stream",
     "text": [
      "Epoch 1/5 [Train]:   1%|          | 5/496 [00:00<00:25, 19.54it/s]"
     ]
    },
    {
     "name": "stdout",
     "output_type": "stream",
     "text": [
      "step 0 | loss 4.2373\n"
     ]
    },
    {
     "name": "stderr",
     "output_type": "stream",
     "text": [
      "Epoch 1/5 [Train]:  21%|██        | 104/496 [00:05<00:19, 20.47it/s]"
     ]
    },
    {
     "name": "stdout",
     "output_type": "stream",
     "text": [
      "step 100 | loss 2.6489\n"
     ]
    },
    {
     "name": "stderr",
     "output_type": "stream",
     "text": [
      "Epoch 1/5 [Train]:  41%|████      | 204/496 [00:10<00:14, 20.56it/s]"
     ]
    },
    {
     "name": "stdout",
     "output_type": "stream",
     "text": [
      "step 200 | loss 2.4441\n"
     ]
    },
    {
     "name": "stderr",
     "output_type": "stream",
     "text": [
      "Epoch 1/5 [Train]:  61%|██████    | 303/496 [00:14<00:09, 21.01it/s]"
     ]
    },
    {
     "name": "stdout",
     "output_type": "stream",
     "text": [
      "step 300 | loss 2.2876\n"
     ]
    },
    {
     "name": "stderr",
     "output_type": "stream",
     "text": [
      "Epoch 1/5 [Train]:  82%|████████▏ | 405/496 [00:19<00:04, 21.07it/s]"
     ]
    },
    {
     "name": "stdout",
     "output_type": "stream",
     "text": [
      "step 400 | loss 2.2166\n"
     ]
    },
    {
     "name": "stderr",
     "output_type": "stream",
     "text": [
      "Epoch 1/5 [Train]: 100%|██████████| 496/496 [00:24<00:00, 20.64it/s]\n",
      "Epoch 2/5 [Train]:   1%|          | 3/496 [00:00<00:23, 20.77it/s]"
     ]
    },
    {
     "name": "stdout",
     "output_type": "stream",
     "text": [
      "step 500 | loss 2.1128\n"
     ]
    },
    {
     "name": "stderr",
     "output_type": "stream",
     "text": [
      "Epoch 2/5 [Train]:   2%|▏         | 8/496 [00:00<00:47, 10.32it/s]"
     ]
    },
    {
     "name": "stdout",
     "output_type": "stream",
     "text": [
      "LOSS\n",
      "2.139448642730713 2.1553823947906494\n",
      "ACCURACY\n",
      "0.20106090198863635 0.20192649147727273\n"
     ]
    },
    {
     "name": "stderr",
     "output_type": "stream",
     "text": [
      "Epoch 2/5 [Train]:  22%|██▏       | 108/496 [00:05<00:18, 21.06it/s]"
     ]
    },
    {
     "name": "stdout",
     "output_type": "stream",
     "text": [
      "step 600 | loss 2.0799\n"
     ]
    },
    {
     "name": "stderr",
     "output_type": "stream",
     "text": [
      "Epoch 2/5 [Train]:  42%|████▏     | 207/496 [00:10<00:13, 21.07it/s]"
     ]
    },
    {
     "name": "stdout",
     "output_type": "stream",
     "text": [
      "step 700 | loss 2.0445\n"
     ]
    },
    {
     "name": "stderr",
     "output_type": "stream",
     "text": [
      "Epoch 2/5 [Train]:  62%|██████▏   | 309/496 [00:15<00:08, 20.98it/s]"
     ]
    },
    {
     "name": "stdout",
     "output_type": "stream",
     "text": [
      "step 800 | loss 2.0393\n"
     ]
    },
    {
     "name": "stderr",
     "output_type": "stream",
     "text": [
      "Epoch 2/5 [Train]:  82%|████████▏ | 408/496 [00:19<00:04, 21.09it/s]"
     ]
    },
    {
     "name": "stdout",
     "output_type": "stream",
     "text": [
      "step 900 | loss 2.0512\n"
     ]
    },
    {
     "name": "stderr",
     "output_type": "stream",
     "text": [
      "Epoch 2/5 [Train]: 100%|██████████| 496/496 [00:24<00:00, 20.66it/s]\n",
      "Epoch 3/5 [Train]:   1%|          | 6/496 [00:00<00:23, 20.70it/s]"
     ]
    },
    {
     "name": "stdout",
     "output_type": "stream",
     "text": [
      "step 1000 | loss 1.9563\n"
     ]
    },
    {
     "name": "stderr",
     "output_type": "stream",
     "text": [
      "Epoch 3/5 [Train]:   2%|▏         | 11/496 [00:00<00:42, 11.29it/s]"
     ]
    },
    {
     "name": "stdout",
     "output_type": "stream",
     "text": [
      "LOSS\n",
      "2.004164934158325 2.0106141567230225\n",
      "ACCURACY\n",
      "0.22369939630681818 0.21952681107954544\n"
     ]
    },
    {
     "name": "stderr",
     "output_type": "stream",
     "text": [
      "Epoch 3/5 [Train]:  23%|██▎       | 112/496 [00:05<00:18, 21.02it/s]"
     ]
    },
    {
     "name": "stdout",
     "output_type": "stream",
     "text": [
      "step 1100 | loss 1.9487\n"
     ]
    },
    {
     "name": "stderr",
     "output_type": "stream",
     "text": [
      "Epoch 3/5 [Train]:  43%|████▎     | 211/496 [00:10<00:13, 20.54it/s]"
     ]
    },
    {
     "name": "stdout",
     "output_type": "stream",
     "text": [
      "step 1200 | loss 2.0290\n"
     ]
    },
    {
     "name": "stderr",
     "output_type": "stream",
     "text": [
      "Epoch 3/5 [Train]:  63%|██████▎   | 313/496 [00:15<00:09, 20.00it/s]"
     ]
    },
    {
     "name": "stdout",
     "output_type": "stream",
     "text": [
      "step 1300 | loss 1.9559\n"
     ]
    },
    {
     "name": "stderr",
     "output_type": "stream",
     "text": [
      "Epoch 3/5 [Train]:  83%|████████▎ | 411/496 [00:20<00:04, 20.98it/s]"
     ]
    },
    {
     "name": "stdout",
     "output_type": "stream",
     "text": [
      "step 1400 | loss 1.9229\n"
     ]
    },
    {
     "name": "stderr",
     "output_type": "stream",
     "text": [
      "Epoch 3/5 [Train]: 100%|██████████| 496/496 [00:24<00:00, 20.51it/s]\n",
      "Epoch 4/5 [Train]:   2%|▏         | 12/496 [00:00<00:22, 21.28it/s]"
     ]
    },
    {
     "name": "stdout",
     "output_type": "stream",
     "text": [
      "step 1500 | loss 1.9187\n"
     ]
    },
    {
     "name": "stderr",
     "output_type": "stream",
     "text": [
      "Epoch 4/5 [Train]:   3%|▎         | 17/496 [00:01<00:38, 12.34it/s]"
     ]
    },
    {
     "name": "stdout",
     "output_type": "stream",
     "text": [
      "LOSS\n",
      "1.9215422868728638 1.9208076000213623\n",
      "ACCURACY\n",
      "0.23206676136363635 0.23326526988636365\n"
     ]
    },
    {
     "name": "stderr",
     "output_type": "stream",
     "text": [
      "Epoch 4/5 [Train]:  23%|██▎       | 115/496 [00:05<00:18, 21.04it/s]"
     ]
    },
    {
     "name": "stdout",
     "output_type": "stream",
     "text": [
      "step 1600 | loss 1.9148\n"
     ]
    },
    {
     "name": "stderr",
     "output_type": "stream",
     "text": [
      "Epoch 4/5 [Train]:  44%|████▍     | 217/496 [00:10<00:13, 21.05it/s]"
     ]
    },
    {
     "name": "stdout",
     "output_type": "stream",
     "text": [
      "step 1700 | loss 1.9083\n"
     ]
    },
    {
     "name": "stderr",
     "output_type": "stream",
     "text": [
      "Epoch 4/5 [Train]:  64%|██████▎   | 316/496 [00:15<00:08, 21.00it/s]"
     ]
    },
    {
     "name": "stdout",
     "output_type": "stream",
     "text": [
      "step 1800 | loss 1.8427\n"
     ]
    },
    {
     "name": "stderr",
     "output_type": "stream",
     "text": [
      "Epoch 4/5 [Train]:  84%|████████▎ | 415/496 [00:20<00:03, 21.04it/s]"
     ]
    },
    {
     "name": "stdout",
     "output_type": "stream",
     "text": [
      "step 1900 | loss 1.8992\n"
     ]
    },
    {
     "name": "stderr",
     "output_type": "stream",
     "text": [
      "Epoch 4/5 [Train]: 100%|██████████| 496/496 [00:23<00:00, 20.71it/s]\n",
      "Epoch 5/5 [Train]:   3%|▎         | 14/496 [00:00<00:22, 21.14it/s]"
     ]
    },
    {
     "name": "stdout",
     "output_type": "stream",
     "text": [
      "step 2000 | loss 1.9133\n"
     ]
    },
    {
     "name": "stderr",
     "output_type": "stream",
     "text": [
      "Epoch 5/5 [Train]:   4%|▍         | 20/496 [00:01<00:36, 13.18it/s]"
     ]
    },
    {
     "name": "stdout",
     "output_type": "stream",
     "text": [
      "LOSS\n",
      "1.8672634363174438 1.8908804655075073\n",
      "ACCURACY\n",
      "0.23479669744318182 0.23652787642045456\n"
     ]
    },
    {
     "name": "stderr",
     "output_type": "stream",
     "text": [
      "Epoch 5/5 [Train]:  24%|██▍       | 119/496 [00:06<00:18, 20.92it/s]"
     ]
    },
    {
     "name": "stdout",
     "output_type": "stream",
     "text": [
      "step 2100 | loss 1.8781\n"
     ]
    },
    {
     "name": "stderr",
     "output_type": "stream",
     "text": [
      "Epoch 5/5 [Train]:  45%|████▍     | 221/496 [00:10<00:13, 21.10it/s]"
     ]
    },
    {
     "name": "stdout",
     "output_type": "stream",
     "text": [
      "step 2200 | loss 1.8564\n"
     ]
    },
    {
     "name": "stderr",
     "output_type": "stream",
     "text": [
      "Epoch 5/5 [Train]:  65%|██████▍   | 320/496 [00:15<00:08, 21.27it/s]"
     ]
    },
    {
     "name": "stdout",
     "output_type": "stream",
     "text": [
      "step 2300 | loss 1.8068\n"
     ]
    },
    {
     "name": "stderr",
     "output_type": "stream",
     "text": [
      "Epoch 5/5 [Train]:  84%|████████▍ | 419/496 [00:20<00:03, 20.95it/s]"
     ]
    },
    {
     "name": "stdout",
     "output_type": "stream",
     "text": [
      "step 2400 | loss 1.7893\n"
     ]
    },
    {
     "name": "stderr",
     "output_type": "stream",
     "text": [
      "Epoch 5/5 [Train]: 100%|██████████| 496/496 [00:23<00:00, 20.71it/s]\n"
     ]
    }
   ],
   "source": [
    "mps_device = torch.device('mps')\n",
    "hidden_size=64\n",
    "\n",
    "model = RNN(vocab_size, hidden_size)\n",
    "model.to(mps_device)\n",
    "optimizer = torch.optim.Adam(model.parameters())\n",
    "\n",
    "num_epochs = 5\n",
    "\n",
    "step = 0\n",
    "for epoch in range(num_epochs):\n",
    "    progress_bar = tqdm(train_loader, desc=f'Epoch {epoch+1}/{num_epochs} [Train]')\n",
    "    \n",
    "    # get batch\n",
    "    for batch in progress_bar:\n",
    "        X, Y = batch\n",
    "        X, Y = X.to(mps_device), Y.to(mps_device)\n",
    "\n",
    "        # feed into the model\n",
    "        logits, loss = model(X, Y)\n",
    "\n",
    "        # calculate the gradient, update the weights\n",
    "        model.zero_grad(set_to_none=True)\n",
    "        loss.backward()\n",
    "        optimizer.step()\n",
    "\n",
    "        # logging\n",
    "        if step % 100 == 0:\n",
    "            print(f\"step {step} | loss {loss.item():.4f}\")\n",
    "        \n",
    "        if step > 0 and step % 500 == 0:\n",
    "            train_loss, train_accuracy = evaluate(model, train_dataset, batch_size=64, max_batches=10)\n",
    "            test_loss, test_accuracy  = evaluate(model, test_dataset,  batch_size=64, max_batches=10)\n",
    "            print(f'LOSS')\n",
    "            print(train_loss, test_loss)\n",
    "            print('ACCURACY')\n",
    "            print(train_accuracy, test_accuracy)\n",
    "        \n",
    "        step += 1"
   ]
  },
  {
   "cell_type": "code",
   "execution_count": 56,
   "metadata": {},
   "outputs": [
    {
     "name": "stdout",
     "output_type": "stream",
     "text": [
      "i am very interested the shall the shall the shall the shall the shall the shall the shall the shall the shall the shall the shall the shall the shall\n"
     ]
    }
   ],
   "source": [
    "print(generate_sequence(model, 'i am very interested', 150, train_dataset.stoi, train_dataset.itos))"
   ]
  },
  {
   "cell_type": "code",
   "execution_count": null,
   "metadata": {},
   "outputs": [],
   "source": [
    "# lstm"
   ]
  },
  {
   "cell_type": "code",
   "execution_count": null,
   "metadata": {},
   "outputs": [],
   "source": [
    "# lstm with dropout"
   ]
  },
  {
   "cell_type": "code",
   "execution_count": null,
   "metadata": {},
   "outputs": [],
   "source": []
  },
  {
   "cell_type": "code",
   "execution_count": null,
   "metadata": {},
   "outputs": [],
   "source": []
  },
  {
   "cell_type": "code",
   "execution_count": null,
   "metadata": {},
   "outputs": [],
   "source": []
  },
  {
   "cell_type": "code",
   "execution_count": null,
   "metadata": {},
   "outputs": [],
   "source": [
    "import requests\n",
    "import gzip\n",
    "import pandas as pd\n",
    "\n",
    "# URL of the gzipped text file\n",
    "url = \"https://github.com/lsb/human-numbers/blob/trunk/one-hundred-thousand-numbers.txt.gz?raw=true\"\n",
    "\n",
    "# Downloading the file using requests\n",
    "response = requests.get(url)\n",
    "response.raise_for_status()  # This will raise an error if the download failed\n",
    "\n",
    "# Unzipping the content\n",
    "content = gzip.decompress(response.content).decode('utf-8')\n",
    "\n",
    "# Since the file contains numbers, each number on a new line, we can split the content into a list\n",
    "numbers = content.splitlines()"
   ]
  },
  {
   "cell_type": "code",
   "execution_count": null,
   "metadata": {},
   "outputs": [],
   "source": [
    "text = ' '.join(x for x in numbers)\n",
    "tokens = text.split(' ')\n",
    "\n",
    "tokens[:10]"
   ]
  },
  {
   "cell_type": "code",
   "execution_count": null,
   "metadata": {},
   "outputs": [],
   "source": [
    "vocab = sorted(list(set(tokens)))\n",
    "len(vocab)"
   ]
  },
  {
   "cell_type": "code",
   "execution_count": null,
   "metadata": {},
   "outputs": [],
   "source": [
    "# token to numbers\n",
    "word2idx = {w:i for i, w in enumerate(vocab)}\n",
    "idx2word = {i:w for i, w in enumerate(vocab)}\n",
    "nums = [word2idx[i] for i in tokens]\n",
    "nums[:10]"
   ]
  },
  {
   "cell_type": "code",
   "execution_count": null,
   "metadata": {},
   "outputs": [],
   "source": [
    "for idx in nums[:25]:\n",
    "    print(idx, vocab[idx])"
   ]
  },
  {
   "cell_type": "markdown",
   "metadata": {},
   "source": [
    "### dataset prep"
   ]
  },
  {
   "cell_type": "code",
   "execution_count": null,
   "metadata": {},
   "outputs": [],
   "source": [
    "dummy_tokens = ['a', 'b', 'c', 'd', 'e', 'f', 'g', 'h', 'i', 'j', 'k']  # Example list\n",
    "\n",
    "for i in range(0, len(dummy_tokens) - 3, 1):\n",
    "    three_tokens = dummy_tokens[i:i+3]  # Get a slice of three tokens\n",
    "    next_token = dummy_tokens[i+3]      # Get the token immediately following the slice\n",
    "    print(f\"Three tokens: {three_tokens}, Next token: {next_token}, Step: {i}\")"
   ]
  },
  {
   "cell_type": "code",
   "execution_count": null,
   "metadata": {},
   "outputs": [],
   "source": [
    "### predict next token based on three previous tokens; book uses step size of 3 which has no overlap, i prefer 1\n",
    "[(tokens[i:i+3], tokens[i+3]) for i in range(0, len(tokens)-3, 1)][2000:2020] # change from 4-2 to 3-1"
   ]
  },
  {
   "cell_type": "code",
   "execution_count": null,
   "metadata": {},
   "outputs": [],
   "source": [
    "import torch\n",
    "\n",
    "# Assuming 'mps_device' is defined as your MPS device\n",
    "mps_device = torch.device('mps')"
   ]
  },
  {
   "cell_type": "code",
   "execution_count": null,
   "metadata": {},
   "outputs": [],
   "source": [
    "# create dataset karpathy style\n",
    "xs = []\n",
    "ys = []\n",
    "for i in range(0, len(tokens) - 3, 1):\n",
    "    three_tokens = torch.tensor(nums[i:i+3])  # Get a slice of three tokens\n",
    "    next_token = torch.tensor(nums[i+3])      # Get the token immediately following the slice\n",
    "    xs.append(three_tokens)\n",
    "    ys.append(next_token)"
   ]
  },
  {
   "cell_type": "code",
   "execution_count": null,
   "metadata": {},
   "outputs": [],
   "source": [
    "from collections import Counter\n",
    "\n",
    "def get_most_common_scalar(data):\n",
    "    \"\"\"given list of scalars, find the most comon scalar value\"\"\"\n",
    "    counter = Counter(data)\n",
    "    most_common = counter.most_common(1)[0][0]\n",
    "    return idx2word[most_common.item()]\n",
    "\n",
    "get_most_common_scalar(ys)"
   ]
  },
  {
   "cell_type": "code",
   "execution_count": null,
   "metadata": {},
   "outputs": [],
   "source": [
    "import torch\n",
    "import torch.nn as nn \n",
    "import torch.nn.functional as F \n",
    "\n",
    "class LLMModel1(nn.Module):\n",
    "    def __init__(self, vocab_size, n_hidden):\n",
    "        super(LLMModel1, self).__init__()  # Initialize the superclass\n",
    "        self.i_h = nn.Embedding(vocab_size, n_hidden) #vocab to hidden\n",
    "        self.h_h = nn.Linear(n_hidden, n_hidden) # hidden to hidden\n",
    "        self.h_o = nn.Linear(n_hidden, vocab_size) # hidden to vocab (logits)\n",
    "        \n",
    "    def forward(self, x):\n",
    "        \"\"\"hidden states are accumulated. subsequent hidden state is added to embedding of next token before being passed through next linear layer and ReLU\"\"\"\n",
    "        # create first hidden state from first word\n",
    "        # embed --> linear --> relu\n",
    "        h = F.relu(self.h_h(self.i_h(x[:, 0])))\n",
    "\n",
    "        # second hidden state from second word\n",
    "        h = h + self.i_h(x[:, 1])\n",
    "        h = F.relu(self.h_h(h))\n",
    "\n",
    "        # hidden state from third word\n",
    "        h = h + self.i_h(x[:, 2])\n",
    "        h = F.relu(self.h_h(h))\n",
    "        return self.h_o(h)"
   ]
  },
  {
   "cell_type": "code",
   "execution_count": null,
   "metadata": {},
   "outputs": [],
   "source": [
    "from torch.utils.data import TensorDataset, DataLoader\n",
    "\n",
    "# Assuming X and Y are your data tensors\n",
    "X = torch.stack(xs)\n",
    "Y = torch.stack(ys)\n",
    "dataset = TensorDataset(X, Y)\n",
    "\n",
    "# Calculate the sizes of splits\n",
    "train_size = int(0.8 * len(dataset))\n",
    "val_size = len(dataset) - train_size\n",
    "\n",
    "# Split the dataset (this method shuffles the data)\n",
    "# train_dataset, val_dataset = random_split(dataset, [train_size, val_size])\n",
    "\n",
    "# Split the dataset without shuffling\n",
    "train_dataset = TensorDataset(X[:train_size], Y[:train_size])\n",
    "val_dataset = TensorDataset(X[train_size:], Y[train_size:])\n",
    "\n",
    "# Create data loaders with drop_last=True to ensure all batches have the same size\n",
    "train_loader = DataLoader(train_dataset, batch_size=64, shuffle=False, drop_last=True)\n",
    "val_loader = DataLoader(val_dataset, batch_size=64, shuffle=False, drop_last=True)\n"
   ]
  },
  {
   "cell_type": "code",
   "execution_count": null,
   "metadata": {},
   "outputs": [],
   "source": [
    "from tqdm import tqdm\n",
    "\n",
    "def train_model(model, train_loader, val_loader, optimizer, criterion, num_epochs, device):\n",
    "    train_losses = []\n",
    "    val_losses = []\n",
    "    train_accuracies = []\n",
    "    val_accuracies = []\n",
    "\n",
    "    for epoch in range(num_epochs):\n",
    "        # Training phase\n",
    "        model.train()\n",
    "        total_loss = 0\n",
    "        correct = 0\n",
    "        total = 0\n",
    "        progress_bar = tqdm(train_loader, desc=f'Epoch {epoch+1}/{num_epochs} [Train]')\n",
    "        for batch in progress_bar:\n",
    "            inputs, labels = batch\n",
    "            inputs, labels = inputs.to(device), labels.to(device)\n",
    "\n",
    "            optimizer.zero_grad()\n",
    "            outputs = model(inputs)\n",
    "            loss = criterion(outputs, labels)\n",
    "            loss.backward()\n",
    "            optimizer.step()\n",
    "\n",
    "            total_loss += loss.item()\n",
    "            _, predicted = torch.max(outputs.data, 1)\n",
    "            total += labels.size(0)\n",
    "            correct += (predicted == labels).sum().item()\n",
    "\n",
    "            # Update progress bar\n",
    "            avg_loss = total_loss / total\n",
    "            accuracy = 100 * correct / total\n",
    "            progress_bar.set_postfix(loss=avg_loss, accuracy=f'{accuracy:.2f}%')\n",
    "\n",
    "        train_losses.append(total_loss / len(train_loader))\n",
    "        train_accuracies.append(100 * correct / total)\n",
    "\n",
    "        # Validation phase\n",
    "        model.eval()\n",
    "        total_loss = 0\n",
    "        correct = 0\n",
    "        total = 0\n",
    "        progress_bar = tqdm(val_loader, desc=f'Epoch {epoch+1}/{num_epochs} [Validation]')\n",
    "        with torch.no_grad():\n",
    "            for batch in progress_bar:\n",
    "                inputs, labels = batch\n",
    "                inputs, labels = inputs.to(device), labels.to(device)\n",
    "\n",
    "                outputs = model(inputs)\n",
    "                loss = criterion(outputs, labels)\n",
    "\n",
    "                total_loss += loss.item()\n",
    "                _, predicted = torch.max(outputs.data, 1)\n",
    "                total += labels.size(0)\n",
    "                correct += (predicted == labels).sum().item()\n",
    "\n",
    "                # Update progress bar\n",
    "                avg_loss = total_loss / total\n",
    "                accuracy = 100 * correct / total\n",
    "                progress_bar.set_postfix(loss=avg_loss, accuracy=f'{accuracy:.2f}%')\n",
    "\n",
    "        val_losses.append(total_loss / len(val_loader))\n",
    "        val_accuracies.append(100 * correct / total)\n",
    "\n",
    "    return train_losses, val_losses, train_accuracies, val_accuracies, model\n"
   ]
  },
  {
   "cell_type": "code",
   "execution_count": null,
   "metadata": {},
   "outputs": [],
   "source": [
    "vocab_size = len(vocab)\n",
    "n_hidden = 64\n",
    "model = LLMModel1(vocab_size, n_hidden)\n",
    "model.to(mps_device)  # Move model to MPS device\n",
    "\n",
    "# Loss function and optimizer\n",
    "criterion = nn.CrossEntropyLoss()\n",
    "optimizer = torch.optim.Adam(model.parameters())\n",
    "\n",
    "num_epochs = 2\n",
    "device = mps_device\n",
    "\n",
    "train_losses, val_losses, train_accuracies, val_accuracies, model = train_model(model, train_loader, val_loader, optimizer, criterion, num_epochs, device)"
   ]
  },
  {
   "cell_type": "code",
   "execution_count": null,
   "metadata": {},
   "outputs": [],
   "source": [
    "# print number of params in model\n",
    "def print_params(model):\n",
    "    num_params = 0\n",
    "    for param in model.parameters():\n",
    "        num_params += param.numel()\n",
    "    print(f\"#Params: {num_params}\")\n",
    "    return num_params\n",
    "\n",
    "def predict_next_word(model, input_sequence, word2idx, idx2word):\n",
    "    # Ensure the model is in evaluation mode\n",
    "    model.eval()\n",
    "    \n",
    "    # Convert the input sequence to a tensor of word indices\n",
    "    input_indices = [word2idx[word] for word in input_sequence]\n",
    "    input_tensor = torch.tensor(input_indices, dtype=torch.long).unsqueeze(0)  # Add a batch dimension\n",
    "    input_tensor = input_tensor.to(device)  # Move the tensor to the appropriate device\n",
    "    \n",
    "    # Get the prediction\n",
    "    with torch.no_grad():  # No need to track gradients for prediction\n",
    "        output = model(input_tensor)\n",
    "    \n",
    "    # Get the predicted word index\n",
    "    _, predicted_index = torch.max(output, 1) # output is of shape (1, vocab_size)\n",
    "    predicted_index = predicted_index.item()  # Convert to a Python integer\n",
    "    \n",
    "    # Convert the predicted index to the corresponding word\n",
    "    predicted_word = idx2word[predicted_index]\n",
    "    print(f'input sequence: {input_sequence}.\\nprediction: {predicted_word}')\n",
    "    model.reset()\n",
    "\n",
    "\n",
    "print_params(model)\n",
    "\n",
    "# Example usage\n",
    "input_sequence = ['one', 'two', 'three']\n",
    "predict_next_word(model, input_sequence, word2idx, idx2word)\n",
    "\n",
    "input_sequence = ['twenty', 'one', 'twenty']\n",
    "predict_next_word(model, input_sequence, word2idx, idx2word)\n",
    "\n",
    "input_sequence = ['zero', 'one', 'two']\n",
    "predict_next_word(model, input_sequence, word2idx, idx2word)\n",
    "\n",
    "input_sequence = ['one', 'hundred', 'one']\n",
    "predict_next_word(model, input_sequence, word2idx, idx2word)\n"
   ]
  },
  {
   "cell_type": "code",
   "execution_count": null,
   "metadata": {},
   "outputs": [],
   "source": [
    "input_sequence = ['twenty', 'one', 'twenty']\n",
    "\n",
    "model.eval()\n",
    "    \n",
    "# Convert the input sequence to a tensor of word indices\n",
    "input_indices = [word2idx[word] for word in input_sequence]\n",
    "input_tensor = torch.tensor(input_indices, dtype=torch.long).unsqueeze(0)  # Add a batch dimension\n",
    "input_tensor = input_tensor.to(device)  # Move the tensor to the appropriate device\n",
    "\n",
    "with torch.no_grad():  # No need to track gradients for prediction\n",
    "    output = model(input_tensor)\n",
    "\n",
    "_, predicted_index = torch.max(output, 1) # output is of shape (1, vocab_size)\n",
    "predicted_index = predicted_index.item()  # Convert to a Python integer\n",
    "    \n",
    "# Convert the predicted index to the corresponding word\n",
    "predicted_word = idx2word[predicted_index]\n",
    "\n",
    "predicted_word"
   ]
  },
  {
   "cell_type": "code",
   "execution_count": null,
   "metadata": {},
   "outputs": [],
   "source": [
    "output.shape"
   ]
  },
  {
   "cell_type": "code",
   "execution_count": null,
   "metadata": {},
   "outputs": [],
   "source": [
    "import matplotlib.pyplot as plt\n",
    "\n",
    "def plot_training_history(train_losses, val_losses, train_accuracies=None, val_accuracies=None):\n",
    "    epochs = range(1, len(train_losses) + 1)\n",
    "\n",
    "    plt.figure(figsize=(12, 4))\n",
    "\n",
    "    # Plot loss\n",
    "    plt.subplot(1, 2, 1)\n",
    "    plt.plot(epochs, train_losses, 'bo-', label='Training loss')\n",
    "    plt.plot(epochs, val_losses, 'ro-', label='Validation loss')\n",
    "    plt.title('Training and Validation Loss')\n",
    "    plt.xlabel('Epoch')\n",
    "    plt.ylabel('Loss')\n",
    "    plt.legend()\n",
    "\n",
    "    # Plot accuracy if provided\n",
    "    if train_accuracies and val_accuracies:\n",
    "        plt.subplot(1, 2, 2)\n",
    "        plt.plot(epochs, train_accuracies, 'bo-', label='Training accuracy')\n",
    "        plt.plot(epochs, val_accuracies, 'ro-', label='Validation accuracy')\n",
    "        plt.title('Training and Validation Accuracy')\n",
    "        plt.xlabel('Epoch')\n",
    "        plt.ylabel('Accuracy')\n",
    "        plt.legend()\n",
    "\n",
    "    plt.show()\n"
   ]
  },
  {
   "cell_type": "code",
   "execution_count": null,
   "metadata": {},
   "outputs": [],
   "source": [
    "plot_training_history(train_losses, val_losses, train_accuracies, val_accuracies)"
   ]
  },
  {
   "cell_type": "markdown",
   "metadata": {},
   "source": [
    "### refactor to RNN"
   ]
  },
  {
   "cell_type": "code",
   "execution_count": null,
   "metadata": {},
   "outputs": [],
   "source": [
    "import torch\n",
    "import torch.nn as nn \n",
    "import torch.nn.functional as F \n",
    "\n",
    "class LLMModel2(nn.Module):\n",
    "    def __init__(self, vocab_size, n_hidden):\n",
    "        super(LLMModel2, self).__init__()  # Initialize the superclass\n",
    "        self.i_h = nn.Embedding(vocab_size, n_hidden) #vocab to hidden\n",
    "        self.h_h = nn.Linear(n_hidden, n_hidden) # hidden to hidden\n",
    "        self.h_o = nn.Linear(n_hidden, vocab_size) # hidden to vocab (logits)\n",
    "        \n",
    "    def forward(self, x):\n",
    "        \"\"\"hidden states are accumulated. subsequent hidden state is added to embedding of next token before being passed through next linear layer and ReLU\"\"\"\n",
    "        h = 0\n",
    "        for i in range(3):\n",
    "            h = h + self.i_h(x[:, i])\n",
    "            h = F.relu(self.h_h(h))\n",
    "        return self.h_o(h)\n",
    "\n"
   ]
  },
  {
   "cell_type": "code",
   "execution_count": null,
   "metadata": {},
   "outputs": [],
   "source": [
    "torch.mps.empty_cache()"
   ]
  },
  {
   "cell_type": "code",
   "execution_count": null,
   "metadata": {},
   "outputs": [],
   "source": [
    "vocab_size = len(vocab)\n",
    "n_hidden = 64\n",
    "model = LLMModel2(vocab_size, n_hidden)\n",
    "model.to(mps_device)  # Move model to MPS device\n",
    "\n",
    "# Loss function and optimizer\n",
    "criterion = nn.CrossEntropyLoss()\n",
    "optimizer = torch.optim.Adam(model.parameters())\n",
    "\n",
    "train_losses, val_losses, train_accuracies, val_accuracies, model = train_model(model, train_loader, val_loader, optimizer, criterion, num_epochs, device)"
   ]
  },
  {
   "cell_type": "code",
   "execution_count": null,
   "metadata": {},
   "outputs": [],
   "source": [
    "# Example usage\n",
    "input_sequence = ['one', 'two', 'three']\n",
    "predict_next_word(model, input_sequence, word2idx, idx2word)\n",
    "\n",
    "input_sequence = ['twenty', 'one', 'twenty']\n",
    "predict_next_word(model, input_sequence, word2idx, idx2word)\n",
    "\n",
    "input_sequence = ['zero', 'one', 'two']\n",
    "predict_next_word(model, input_sequence, word2idx, idx2word)\n",
    "\n",
    "input_sequence = ['one', 'hundred', 'one']\n",
    "predict_next_word(model, input_sequence, word2idx, idx2word)"
   ]
  },
  {
   "cell_type": "markdown",
   "metadata": {},
   "source": [
    "### maintaining hidden state\n",
    "\n",
    "- instead of resetting to 0 for each forward"
   ]
  },
  {
   "cell_type": "code",
   "execution_count": null,
   "metadata": {},
   "outputs": [],
   "source": [
    "import torch\n",
    "import torch.nn as nn \n",
    "import torch.nn.functional as F \n",
    "\n",
    "class LLMModel3(nn.Module):\n",
    "    def __init__(self, vocab_size, n_hidden):\n",
    "        super(LLMModel3, self).__init__()  # Initialize the superclass\n",
    "        self.i_h = nn.Embedding(vocab_size, n_hidden) #vocab to hidden\n",
    "        self.h_h = nn.Linear(n_hidden, n_hidden) # hidden to hidden\n",
    "        self.h_o = nn.Linear(n_hidden, vocab_size) # hidden to vocab (logits)\n",
    "        self.h = 0\n",
    "        \n",
    "    def forward(self, x):\n",
    "        \"\"\"hidden states are accumulated. subsequent hidden state is added to embedding of next token before being passed through next linear layer and ReLU\"\"\"\n",
    "        for i in range(3):\n",
    "            self.h = self.h + self.i_h(x[:, i])\n",
    "            self.h = F.relu(self.h_h(self.h))\n",
    "        out = self.h_o(self.h)\n",
    "        self.h = self.h.detach() # stop tracking previous gradients\n",
    "        return out\n",
    "\n",
    "    def reset(self):\n",
    "        # Resets or reinitializes the hidden state to zero\n",
    "        self.h = 0\n",
    "\n",
    "\n",
    "# detach means we only calculate gradients of previous 3 steps (for loop) aka the steps used to calculate this self.h; this is used to avoid vanishing/exploding graidnets"
   ]
  },
  {
   "cell_type": "code",
   "execution_count": null,
   "metadata": {},
   "outputs": [],
   "source": [
    "torch.mps.empty_cache()\n",
    "\n",
    "\n",
    "model = LLMModel3(vocab_size, n_hidden)\n",
    "model.to(mps_device)  # Move model to MPS device\n",
    "\n",
    "# Loss function and optimizer\n",
    "criterion = nn.CrossEntropyLoss()\n",
    "optimizer = torch.optim.Adam(model.parameters())\n",
    "\n",
    "train_losses, val_losses, train_accuracies, val_accuracies, model = train_model(model, train_loader, val_loader, optimizer, criterion, num_epochs, device)"
   ]
  },
  {
   "cell_type": "code",
   "execution_count": null,
   "metadata": {},
   "outputs": [],
   "source": [
    "print_params(model)"
   ]
  },
  {
   "cell_type": "code",
   "execution_count": null,
   "metadata": {},
   "outputs": [],
   "source": [
    "model"
   ]
  },
  {
   "cell_type": "code",
   "execution_count": null,
   "metadata": {},
   "outputs": [],
   "source": [
    "model.reset()\n",
    "\n",
    "# Example usage\n",
    "input_sequence = ['one', 'two', 'three']\n",
    "predict_next_word(model, input_sequence, word2idx, idx2word)\n",
    "\n",
    "input_sequence = ['twenty', 'one', 'twenty']\n",
    "predict_next_word(model, input_sequence, word2idx, idx2word)\n",
    "\n",
    "input_sequence = ['zero', 'one', 'two']\n",
    "predict_next_word(model, input_sequence, word2idx, idx2word)\n",
    "\n",
    "input_sequence = ['one', 'hundred', 'one']\n",
    "predict_next_word(model, input_sequence, word2idx, idx2word)\n",
    "\n"
   ]
  },
  {
   "cell_type": "markdown",
   "metadata": {},
   "source": [
    "slight boost in performance..."
   ]
  },
  {
   "cell_type": "markdown",
   "metadata": {},
   "source": [
    "### now instead of outputting one word per three input words, output after each step...\n",
    "\n",
    "this gives it more signal for back prop"
   ]
  },
  {
   "cell_type": "code",
   "execution_count": null,
   "metadata": {},
   "outputs": [],
   "source": [
    "sl = 16\n",
    "nums[i:i+sl], nums[i+1:i+sl+1]"
   ]
  },
  {
   "cell_type": "code",
   "execution_count": null,
   "metadata": {},
   "outputs": [],
   "source": [
    "# create dataset karpathy style\n",
    "sl = 16\n",
    "\n",
    "xs = []\n",
    "ys = []\n",
    "for i in range(0, len(nums) - sl-1, 1):\n",
    "    sixteen_tokens = torch.tensor(nums[i:i+16])  # Get a slice of three tokens\n",
    "    next_sixteen_tokens = torch.tensor(nums[i+1: i+sl+1])      # Get the token immediately following the slice\n",
    "    xs.append(sixteen_tokens)\n",
    "    ys.append(next_sixteen_tokens)\n",
    "\n",
    "# Assuming X and Y are your data tensors\n",
    "X = torch.stack(xs)\n",
    "Y = torch.stack(ys)\n",
    "dataset = TensorDataset(X, Y)\n",
    "\n",
    "# Calculate the sizes of splits\n",
    "train_size = int(0.8 * len(dataset))\n",
    "val_size = len(dataset) - train_size\n",
    "\n",
    "# Split the dataset (this method shuffles the data)\n",
    "# train_dataset, val_dataset = random_split(dataset, [train_size, val_size])\n",
    "\n",
    "# Split the dataset without shuffling\n",
    "train_dataset = TensorDataset(X[:train_size], Y[:train_size])\n",
    "val_dataset = TensorDataset(X[train_size:], Y[train_size:])\n",
    "\n",
    "# Create data loaders with drop_last=True to ensure all batches have the same size\n",
    "train_loader = DataLoader(train_dataset, batch_size=64, shuffle=False, drop_last=True)\n",
    "val_loader = DataLoader(val_dataset, batch_size=64, shuffle=False, drop_last=True)\n"
   ]
  },
  {
   "cell_type": "code",
   "execution_count": null,
   "metadata": {},
   "outputs": [],
   "source": [
    "i_ = 1\n",
    "xs[i_], ys[i_]\n",
    "\n",
    "for num in xs[i_]:\n",
    "    print(vocab[num])\n",
    "\n",
    "print('\\n')\n",
    "\n",
    "for num in ys[i_]:\n",
    "    print(vocab[num])"
   ]
  },
  {
   "cell_type": "code",
   "execution_count": null,
   "metadata": {},
   "outputs": [],
   "source": [
    "import torch\n",
    "import torch.nn as nn \n",
    "import torch.nn.functional as F \n",
    "\n",
    "class LLMModel4(nn.Module):\n",
    "    def __init__(self, vocab_size, n_hidden):\n",
    "        super(LLMModel4, self).__init__()  # Initialize the superclass\n",
    "        self.i_h = nn.Embedding(vocab_size, n_hidden) #vocab to hidden\n",
    "        self.h_h = nn.Linear(n_hidden, n_hidden) # hidden to hidden\n",
    "        self.h_o = nn.Linear(n_hidden, vocab_size) # hidden to vocab (logits)\n",
    "        self.h = 0\n",
    "        \n",
    "    def forward(self, x):\n",
    "        \"\"\"output a prediction after each word\n",
    "\n",
    "        will return outs as shape batch_size x seq_len x vocab_sz\n",
    "        \"\"\"\n",
    "        outs = [] # (batch_size x vocab_sz)\n",
    "        for i in range(sl): # CHANGED TO SL\n",
    "            self.h = self.h + self.i_h(x[:, i])\n",
    "            self.h = F.relu(self.h_h(self.h))\n",
    "            outs.append(self.h_o(self.h))\n",
    "        self.h = self.h.detach() # stop tracking previous gradients\n",
    "        return torch.stack(outs, dim=1)\n",
    "\n",
    "    def reset(self):\n",
    "        # Resets or reinitializes the hidden state to zero\n",
    "        self.h = 0\n"
   ]
  },
  {
   "cell_type": "code",
   "execution_count": null,
   "metadata": {},
   "outputs": [],
   "source": [
    "# dumb but we'll update the function for outputs.shape\n",
    "\n",
    "from tqdm import tqdm\n",
    "\n",
    "def train_model(model, train_loader, val_loader, optimizer, criterion, num_epochs, device):\n",
    "    train_losses = []\n",
    "    val_losses = []\n",
    "    train_accuracies = []\n",
    "    val_accuracies = []\n",
    "\n",
    "    for epoch in range(num_epochs):\n",
    "        # Training phase\n",
    "        model.train()\n",
    "        total_loss = 0\n",
    "        correct = 0\n",
    "        total = 0\n",
    "        progress_bar = tqdm(train_loader, desc=f'Epoch {epoch+1}/{num_epochs} [Train]')\n",
    "        for batch in progress_bar:\n",
    "            inputs, labels = batch\n",
    "            inputs, labels = inputs.to(device), labels.to(device)\n",
    "\n",
    "            optimizer.zero_grad()\n",
    "            outputs = model(inputs)\n",
    "\n",
    "            # FLATTTEN AND RESHAPE\n",
    "            outputs = outputs.view(-1, vocab_size)\n",
    "            labels = labels.view(-1)\n",
    "\n",
    "            loss = criterion(outputs, labels)\n",
    "            loss.backward()\n",
    "            optimizer.step()\n",
    "\n",
    "            total_loss += loss.item()\n",
    "            _, predicted = torch.max(outputs.data, 1)\n",
    "            total += labels.size(0)\n",
    "            correct += (predicted == labels).sum().item()\n",
    "\n",
    "            # Update progress bar\n",
    "            avg_loss = total_loss / total\n",
    "            accuracy = 100 * correct / total\n",
    "            progress_bar.set_postfix(loss=avg_loss, accuracy=f'{accuracy:.2f}%')\n",
    "\n",
    "        train_losses.append(total_loss / len(train_loader))\n",
    "        train_accuracies.append(100 * correct / total)\n",
    "\n",
    "        # Validation phase\n",
    "        model.eval()\n",
    "        total_loss = 0\n",
    "        correct = 0\n",
    "        total = 0\n",
    "        progress_bar = tqdm(val_loader, desc=f'Epoch {epoch+1}/{num_epochs} [Validation]')\n",
    "        with torch.no_grad():\n",
    "            for batch in progress_bar:\n",
    "                inputs, labels = batch\n",
    "                inputs, labels = inputs.to(device), labels.to(device)\n",
    "\n",
    "                outputs = model(inputs)\n",
    "\n",
    "                outputs = outputs.view(-1, vocab_size)\n",
    "                labels = labels.view(-1)\n",
    "\n",
    "                loss = criterion(outputs, labels)\n",
    "\n",
    "                total_loss += loss.item()\n",
    "                _, predicted = torch.max(outputs.data, 1)\n",
    "                total += labels.size(0)\n",
    "                correct += (predicted == labels).sum().item()\n",
    "\n",
    "                # Update progress bar\n",
    "                avg_loss = total_loss / total\n",
    "                accuracy = 100 * correct / total\n",
    "                progress_bar.set_postfix(loss=avg_loss, accuracy=f'{accuracy:.2f}%')\n",
    "\n",
    "        val_losses.append(total_loss / len(val_loader))\n",
    "        val_accuracies.append(100 * correct / total)\n",
    "\n",
    "    return train_losses, val_losses, train_accuracies, val_accuracies, model"
   ]
  },
  {
   "cell_type": "code",
   "execution_count": null,
   "metadata": {},
   "outputs": [],
   "source": [
    "torch.mps.empty_cache()\n",
    "\n",
    "\n",
    "model = LLMModel4(vocab_size, n_hidden)\n",
    "model.to(mps_device)  # Move model to MPS device\n",
    "\n",
    "# Loss function and optimizer\n",
    "criterion = nn.CrossEntropyLoss()\n",
    "optimizer = torch.optim.Adam(model.parameters())\n",
    "num_epochs = 2\n",
    "\n",
    "train_losses, val_losses, train_accuracies, val_accuracies, model = train_model(model, train_loader, val_loader, optimizer, criterion, num_epochs, device)"
   ]
  },
  {
   "cell_type": "code",
   "execution_count": null,
   "metadata": {},
   "outputs": [],
   "source": [
    "# Define your sequence length\n",
    "sl = 16\n",
    "\n",
    "model.reset()\n",
    "\n",
    "# Make sure to have your word2idx dictionary ready to convert words to indices\n",
    "input_sequence = ['one', 'hundred', 'one', \n",
    "                  'one', 'hundred', 'two',\n",
    "                  'one', 'hundred', 'three', \n",
    "                  'one', 'hundred', 'four',\n",
    "                  'one', 'hundred', 'five',\n",
    "                  'one']  # sequence of length sl\n",
    "\n",
    "# Convert input sequence to tensor of word indices\n",
    "input_indices = [word2idx[word] for word in input_sequence]\n",
    "input_tensor = torch.tensor(input_indices, dtype=torch.long).unsqueeze(0)  # Add batch dimension\n",
    "print(input_tensor.shape)\n",
    "input_tensor = input_tensor.to(device)  # Move to the appropriate device\n",
    "print(input_tensor.shape)\n",
    "\n",
    "# Set model to evaluation mode\n",
    "model.eval()\n",
    "\n",
    "# Get predictions\n",
    "with torch.no_grad():\n",
    "    logits = model(input_tensor)  # Logits will have shape [1, sl, vocab_size] since we did unsqueeze\n",
    "\n",
    "# If you want to get the most likely word predictions for each position in the sequence:\n",
    "predictions = torch.argmax(logits, dim=2)  # This will give you [1, sl] tensor of word indices\n",
    "\n",
    "# Convert predicted indices to words\n",
    "predicted_words = [idx2word[idx.item()] for idx in predictions[0]]\n",
    "predicted_words"
   ]
  },
  {
   "cell_type": "markdown",
   "metadata": {},
   "source": [
    "### multi-layer RNNs \n",
    "\n",
    "will suffer from exploding...vanishing gradients..."
   ]
  },
  {
   "cell_type": "code",
   "execution_count": null,
   "metadata": {},
   "outputs": [],
   "source": [
    "### LSTM\n",
    "\n",
    "class LSTMCell(nn.Module):\n",
    "    def __init__(self, ni, nh):\n",
    "        self.forget_gate = nn.Linear(ni + nh, nh) # since we stack ni + nh into one tensor\n",
    "        self.input_gate = nn.Linear(ni + nh, nh)\n",
    "        self.cell_gate = nn.Linear(ni + nh, nh)\n",
    "        self.output_gate = nn.Linear(ni + nh, nh)\n",
    "    \n",
    "    def forward(self, input, state):\n",
    "        \"\"\"\n",
    "        h and c start of shape (batch, nh)\n",
    "        h becomes shape (batch, nh+ni) after being concat with input\n",
    "\n",
    "        forget, c, inp, cell, and out are all of shape (batch, nh)\n",
    "        h is passed into the linear layers as (batch, ni + nh)\n",
    "\n",
    "        ### MATH\n",
    "        concat([h, input], dim=1) * W_forget + b_forget -> forget \"how much past memory to let go\"\n",
    "        concat([h, input], dim=1) * W_input + b_input -> inp \"how much new information to let in\"\n",
    "        concat([h, input], dim=1) * W_cell + b_cell -> cell \"what are the candidate values for new information\"\n",
    "        concat([h, input], dim=1) * W_output + b_output -> out \"baesd on new cell state, what should my output be?\"\n",
    "        \"\"\"\n",
    "        h, c = state # hidden state and cell state; both of shape (batch, nh)\n",
    "        h = torch.stack([h, input], dim=1) # stack h and input together so h is shape (batch, nh + ni)\n",
    "\n",
    "        # forget cell state\n",
    "        forget = torch.sigmoid(self.forget_gate(h)) # input shape (batch, nh + ni); output shape (batch, nh); squashed to be between values of 0 and 1\n",
    "        c = c * forget # (batch, nh) * (batch, nh) = (batch, nh)\n",
    "\n",
    "        # update cell state\n",
    "        inp = torch.sigmoid(self.input_gate(h)) # input shape is (batch, nh + ni); output shape is (batch, nh)\n",
    "        cell = torch.tanh(self.cell_gate(h)) # input shape is (batch, nh + ni); output shape is (batch, nh)\n",
    "        c = c + (inp * cell) # (batch, nh) + (batch, nh) = (batch, nh)\n",
    "\n",
    "        # generate new hidden state, using h and c\n",
    "        out = torch.sigmoid(self.output_gate(h)) # input shape is (batch, nh + ni); output shape is (batch, nh)\n",
    "        h = out * torch.tanh(c) # input shape of tanh is (batch, nh); output shape is (batch, nh)\n",
    "        return h, (h, c)\n",
    "    \n",
    "### Refactor for speed into one giant matrix multiplication\n",
    "    \n",
    "class LSTMCell(nn.Module):\n",
    "    def __init__(self, ni, nh):\n",
    "        self.ih = nn.Linear(ni, 4 * nh)\n",
    "        self.hh = nn.Linear(nh, 4 * nh)\n",
    "    \n",
    "    def forward(self, input, state):\n",
    "        h, c = state # hidden state and cell state \n",
    "        # One big matmul for all gates\n",
    "        gates = (self.ih(input) + self.hh(h)).chunk(4, 1)\n",
    "        ingate, forgetgate, outgate = map(torch.sigmoid, gates[:3]) \n",
    "        cellgate = gates[3].tanh()\n",
    "\n",
    "        c = (forgetgate * c) + (ingate * cellgate)\n",
    "        h = outgate * c.tanh()\n",
    "        return h, (h, c)\n"
   ]
  },
  {
   "cell_type": "code",
   "execution_count": null,
   "metadata": {},
   "outputs": [],
   "source": [
    "t = torch.arange(0, 10); t\n",
    "\n",
    "t.chunk(2)"
   ]
  },
  {
   "cell_type": "markdown",
   "metadata": {},
   "source": [
    "```\n",
    "x * ih -> [batch_size, ni] * [ni, 4*nh] = [batch_size, 4*nh]\n",
    "h * hh -> [batch_size, nh] * [nh, 4*nh] = [batch_size, 4*nh]\n",
    "gates = (x * ih) + (h * hh) -> [batch_size, 4*nh]\n",
    "\n",
    "ingate, forgetgate, outgate, cellgate = gates.chunk(4, 1)\n",
    "\n",
    "\n",
    "ingate = sigmoid([batch_size, nh])\n",
    "forgetgate = sigmoid([batch_size, nh])\n",
    "outgate = sigmoid([batch_size, nh])\n",
    "cellgate = tanh([batch_size, nh])\n",
    "\n",
    "c = (forgetgate * c) + (ingate * tanh(cellgate))\n",
    "h = outgate * tanh(c)\n",
    "```\n"
   ]
  },
  {
   "cell_type": "code",
   "execution_count": null,
   "metadata": {},
   "outputs": [],
   "source": [
    "import torch\n",
    "import torch.nn as nn\n",
    "import torch.nn.functional as F\n",
    "\n",
    "class LMModel6(nn.Module):\n",
    "    def __init__(self, vocab_size, n_hidden, n_layers):\n",
    "        super(LMModel6, self).__init__()  # Initialize the superclass\n",
    "\n",
    "        # An embedding layer that converts input data (indices) to embeddings of shape (batch_size, n_hidden)\n",
    "        self.i_h = nn.Embedding(vocab_size, n_hidden)\n",
    "\n",
    "        # The LSTM layers\n",
    "        self.lstm = nn.LSTM(n_hidden, n_hidden, n_layers, batch_first=True)\n",
    "\n",
    "        # A fully connected output layer that maps the LSTM layer outputs to vocabulary size; also often called FC for fully connected\n",
    "        self.h_o = nn.Linear(n_hidden, vocab_size)\n",
    "\n",
    "        # Initialize the hidden and cell states with zeros\n",
    "        self.h = self.init_hidden(n_layers, n_hidden)\n",
    "\n",
    "    def forward(self, x):\n",
    "        # Convert input indices to embeddings\n",
    "        embeds = self.i_h(x)\n",
    "        # get the output and new hidden state from the LSTM; lstm_out is of shape (batch_size, seq_len, n_hidden)\n",
    "        lstm_out, self.h = self.lstm(embeds, self.h)\n",
    "        # detach\n",
    "        self.h = [h_.detach() for h_ in self.h]\n",
    "        # fc / h_o\n",
    "        return self.h_o(lstm_out)\n",
    "\n",
    "\n",
    "    def init_hidden(self, n_layers, n_hidden):\n",
    "        # generates the first hidden state of zeros which we'll use in the forward pass; right now its hard-coded to batch size of 64...\n",
    "        # there is two because its for hidden + cell state\n",
    "        return [torch.zeros(n_layers, 64, n_hidden) for _ in range(2)]\n",
    "\n",
    "    def reset(self):\n",
    "        # Reset the hidden state. Needed in case of detaching the hidden state between batches\n",
    "        for h in self.h:\n",
    "            h.zero_()\n"
   ]
  },
  {
   "cell_type": "code",
   "execution_count": null,
   "metadata": {},
   "outputs": [],
   "source": [
    "torch.mps.empty_cache()\n",
    "\n",
    "\n",
    "model = LMModel6(vocab_size, n_hidden, 2)\n",
    "model.to(mps_device)  # Move model to MPS device\n",
    "\n",
    "# Loss function and optimizer\n",
    "criterion = nn.CrossEntropyLoss()\n",
    "optimizer = torch.optim.Adam(model.parameters())\n",
    "num_epochs = 3\n",
    "\n",
    "train_losses, val_losses, train_accuracies, val_accuracies, model = train_model(model, train_loader, val_loader, optimizer, criterion, num_epochs, device)"
   ]
  },
  {
   "cell_type": "markdown",
   "metadata": {},
   "source": [
    "### detour of detach"
   ]
  },
  {
   "cell_type": "code",
   "execution_count": null,
   "metadata": {},
   "outputs": [],
   "source": [
    "import torch\n",
    "\n",
    "# Creating a simple computation graph\n",
    "x = torch.tensor([2.], requires_grad=True)\n",
    "y = x * 2\n",
    "\n",
    "# Without detach\n",
    "z = y * y  # z = (x * 2) * (x * 2) = 4x^2\n",
    "z.backward()  # Computes gradients for the whole graph\n",
    "gradients_without_detach = x.grad.item()  # Should be dz/dx = 8x, which is 16 when x = 2\n",
    "\n",
    "# Resetting gradients\n",
    "x.grad.data.zero_()\n",
    "\n",
    "# With detach\n",
    "y_detached = y.detach()  # y_detached is a new tensor with the same value as y but no history of operations\n",
    "# No need to call z.backward() because y_detached has no grad_fn\n",
    "# and thus won't contribute to gradients in x\n",
    "\n",
    "# The gradient of x should still be zero since the detached part does not contribute to the computation\n",
    "gradients_with_detach = x.grad.item()\n",
    "\n",
    "gradients_without_detach, gradients_with_detach\n"
   ]
  },
  {
   "cell_type": "code",
   "execution_count": null,
   "metadata": {},
   "outputs": [],
   "source": [
    "## torch.stack()\n",
    "lst = [torch.rand(2, 3) for i in range(3)]\n",
    "print([x.shape for x in lst])\n",
    "\n",
    "# stacking on dimension 1 maintains batch dimension, second dimension (1) becomes the timesteps\n",
    "torch.stack(lst, dim=1).shape, torch.stack(lst, dim=1)"
   ]
  },
  {
   "cell_type": "code",
   "execution_count": null,
   "metadata": {},
   "outputs": [],
   "source": [
    "torch.stack(lst, dim=0).shape, torch.stack(lst, dim=0)"
   ]
  },
  {
   "cell_type": "code",
   "execution_count": null,
   "metadata": {},
   "outputs": [],
   "source": []
  },
  {
   "cell_type": "code",
   "execution_count": null,
   "metadata": {},
   "outputs": [],
   "source": []
  },
  {
   "cell_type": "code",
   "execution_count": null,
   "metadata": {},
   "outputs": [],
   "source": []
  }
 ],
 "metadata": {
  "kernelspec": {
   "display_name": "_venv",
   "language": "python",
   "name": "python3"
  },
  "language_info": {
   "codemirror_mode": {
    "name": "ipython",
    "version": 3
   },
   "file_extension": ".py",
   "mimetype": "text/x-python",
   "name": "python",
   "nbconvert_exporter": "python",
   "pygments_lexer": "ipython3",
   "version": "3.9.13"
  }
 },
 "nbformat": 4,
 "nbformat_minor": 2
}
