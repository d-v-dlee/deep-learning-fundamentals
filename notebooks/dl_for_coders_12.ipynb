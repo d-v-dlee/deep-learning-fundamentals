{
 "cells": [
  {
   "cell_type": "markdown",
   "metadata": {},
   "source": [
    "# Chapter 12: A Language model from scratch"
   ]
  },
  {
   "cell_type": "code",
   "execution_count": null,
   "metadata": {},
   "outputs": [],
   "source": [
    "import requests\n",
    "import gzip\n",
    "import pandas as pd\n",
    "\n",
    "# URL of the gzipped text file\n",
    "url = \"https://github.com/lsb/human-numbers/blob/trunk/one-hundred-thousand-numbers.txt.gz?raw=true\"\n",
    "\n",
    "# Downloading the file using requests\n",
    "response = requests.get(url)\n",
    "response.raise_for_status()  # This will raise an error if the download failed\n",
    "\n",
    "# Unzipping the content\n",
    "content = gzip.decompress(response.content).decode('utf-8')\n",
    "\n",
    "# Since the file contains numbers, each number on a new line, we can split the content into a list\n",
    "numbers = content.splitlines()"
   ]
  },
  {
   "cell_type": "code",
   "execution_count": null,
   "metadata": {},
   "outputs": [],
   "source": [
    "text = ' '.join(x for x in numbers)\n",
    "tokens = text.split(' ')\n",
    "\n",
    "tokens[:10]"
   ]
  },
  {
   "cell_type": "code",
   "execution_count": null,
   "metadata": {},
   "outputs": [],
   "source": [
    "vocab = sorted(list(set(tokens)))\n",
    "len(vocab)"
   ]
  },
  {
   "cell_type": "code",
   "execution_count": null,
   "metadata": {},
   "outputs": [],
   "source": [
    "# token to numbers\n",
    "word2idx = {w:i for i, w in enumerate(vocab)}\n",
    "nums = [word2idx[i] for i in tokens]\n",
    "nums[:10]"
   ]
  },
  {
   "cell_type": "code",
   "execution_count": null,
   "metadata": {},
   "outputs": [],
   "source": [
    "for idx in nums[:25]:\n",
    "    print(idx, vocab[idx])"
   ]
  },
  {
   "cell_type": "markdown",
   "metadata": {},
   "source": [
    "### dataset prep"
   ]
  },
  {
   "cell_type": "code",
   "execution_count": null,
   "metadata": {},
   "outputs": [],
   "source": [
    "dummy_tokens = ['a', 'b', 'c', 'd', 'e', 'f', 'g', 'h', 'i', 'j', 'k']  # Example list\n",
    "\n",
    "for i in range(0, len(dummy_tokens) - 3, 1):\n",
    "    three_tokens = dummy_tokens[i:i+3]  # Get a slice of three tokens\n",
    "    next_token = dummy_tokens[i+3]      # Get the token immediately following the slice\n",
    "    print(f\"Three tokens: {three_tokens}, Next token: {next_token}, Step: {i}\")"
   ]
  },
  {
   "cell_type": "code",
   "execution_count": null,
   "metadata": {},
   "outputs": [],
   "source": [
    "### predict next token based on three previous tokens; book uses step size of 3 which has no overlap, i prefer 1\n",
    "[(tokens[i:i+3], tokens[i+3]) for i in range(0, len(tokens)-3, 1)][2000:2020] # change from 4-2 to 3-1"
   ]
  },
  {
   "cell_type": "code",
   "execution_count": null,
   "metadata": {},
   "outputs": [],
   "source": [
    "import torch\n",
    "\n",
    "# Assuming 'mps_device' is defined as your MPS device\n",
    "mps_device = torch.device('mps')"
   ]
  },
  {
   "cell_type": "code",
   "execution_count": null,
   "metadata": {},
   "outputs": [],
   "source": [
    "# create dataset karpathy style\n",
    "xs = []\n",
    "ys = []\n",
    "for i in range(0, len(tokens) - 3, 1):\n",
    "    three_tokens = torch.tensor(nums[i:i+3])  # Get a slice of three tokens\n",
    "    next_token = torch.tensor(nums[i+3])      # Get the token immediately following the slice\n",
    "    xs.append(three_tokens)\n",
    "    ys.append(next_token)"
   ]
  },
  {
   "cell_type": "code",
   "execution_count": null,
   "metadata": {},
   "outputs": [],
   "source": [
    "import torch\n",
    "import torch.nn as nn \n",
    "import torch.nn.functional as F \n",
    "\n",
    "class LLMModel1(nn.Module):\n",
    "    def __init__(self, vocab_size, n_hidden):\n",
    "        super(LLMModel1, self).__init__()  # Initialize the superclass\n",
    "        self.i_h = nn.Embedding(vocab_size, n_hidden) #vocab to hidden\n",
    "        self.h_h = nn.Linear(n_hidden, n_hidden) # hidden to hidden\n",
    "        self.h_o = nn.Linear(n_hidden, vocab_size) # hidden to vocab (logits)\n",
    "        \n",
    "    def forward(self, x):\n",
    "        \"\"\"hidden states are accumulated. subsequent hidden state is added to embedding of next token before being passed through next linear layer and ReLU\"\"\"\n",
    "        # create first hidden state from first word\n",
    "        # embed --> linear --> relu\n",
    "        h = F.relu(self.h_h(self.i_h(x[:, 0])))\n",
    "\n",
    "        # second hidden state from second word\n",
    "        h = h + self.i_h(x[:, 1])\n",
    "        h = F.relu(self.h_h(h))\n",
    "\n",
    "        # hidden state from third word\n",
    "        h = h + self.i_h(x[:, 2])\n",
    "        h = F.relu(self.h_h(h))\n",
    "        return self.h_o(h)"
   ]
  },
  {
   "cell_type": "code",
   "execution_count": null,
   "metadata": {},
   "outputs": [],
   "source": [
    "from torch.utils.data import TensorDataset, DataLoader\n",
    "\n",
    "# Assuming X and Y are your data tensors\n",
    "X = torch.stack(xs)\n",
    "Y = torch.stack(ys)\n",
    "dataset = TensorDataset(X, Y)\n",
    "\n",
    "# Calculate the sizes of splits\n",
    "train_size = int(0.8 * len(dataset))\n",
    "val_size = len(dataset) - train_size\n",
    "\n",
    "# Split the dataset (this method shuffles the data)\n",
    "# train_dataset, val_dataset = random_split(dataset, [train_size, val_size])\n",
    "\n",
    "# Split the dataset without shuffling\n",
    "train_dataset = TensorDataset(X[:train_size], Y[:train_size])\n",
    "val_dataset = TensorDataset(X[train_size:], Y[train_size:])\n",
    "\n",
    "# Create data loaders with drop_last=True to ensure all batches have the same size\n",
    "train_loader = DataLoader(train_dataset, batch_size=64, shuffle=False, drop_last=True)\n",
    "val_loader = DataLoader(val_dataset, batch_size=64, shuffle=False, drop_last=True)\n"
   ]
  },
  {
   "cell_type": "code",
   "execution_count": null,
   "metadata": {},
   "outputs": [],
   "source": [
    "from tqdm import tqdm\n",
    "\n",
    "def train_model(model, train_loader, val_loader, optimizer, criterion, num_epochs, device):\n",
    "    train_losses = []\n",
    "    val_losses = []\n",
    "    train_accuracies = []\n",
    "    val_accuracies = []\n",
    "\n",
    "    for epoch in range(num_epochs):\n",
    "        # Training phase\n",
    "        model.train()\n",
    "        total_loss = 0\n",
    "        correct = 0\n",
    "        total = 0\n",
    "        progress_bar = tqdm(train_loader, desc=f'Epoch {epoch+1}/{num_epochs} [Train]')\n",
    "        for batch in progress_bar:\n",
    "            inputs, labels = batch\n",
    "            inputs, labels = inputs.to(device), labels.to(device)\n",
    "\n",
    "            optimizer.zero_grad()\n",
    "            outputs = model(inputs)\n",
    "            loss = criterion(outputs, labels)\n",
    "            loss.backward()\n",
    "            optimizer.step()\n",
    "\n",
    "            total_loss += loss.item()\n",
    "            _, predicted = torch.max(outputs.data, 1)\n",
    "            total += labels.size(0)\n",
    "            correct += (predicted == labels).sum().item()\n",
    "\n",
    "            # Update progress bar\n",
    "            avg_loss = total_loss / total\n",
    "            accuracy = 100 * correct / total\n",
    "            progress_bar.set_postfix(loss=avg_loss, accuracy=f'{accuracy:.2f}%')\n",
    "\n",
    "        train_losses.append(total_loss / len(train_loader))\n",
    "        train_accuracies.append(100 * correct / total)\n",
    "\n",
    "        # Validation phase\n",
    "        model.eval()\n",
    "        total_loss = 0\n",
    "        correct = 0\n",
    "        total = 0\n",
    "        progress_bar = tqdm(val_loader, desc=f'Epoch {epoch+1}/{num_epochs} [Validation]')\n",
    "        with torch.no_grad():\n",
    "            for batch in progress_bar:\n",
    "                inputs, labels = batch\n",
    "                inputs, labels = inputs.to(device), labels.to(device)\n",
    "\n",
    "                outputs = model(inputs)\n",
    "                loss = criterion(outputs, labels)\n",
    "\n",
    "                total_loss += loss.item()\n",
    "                _, predicted = torch.max(outputs.data, 1)\n",
    "                total += labels.size(0)\n",
    "                correct += (predicted == labels).sum().item()\n",
    "\n",
    "                # Update progress bar\n",
    "                avg_loss = total_loss / total\n",
    "                accuracy = 100 * correct / total\n",
    "                progress_bar.set_postfix(loss=avg_loss, accuracy=f'{accuracy:.2f}%')\n",
    "\n",
    "        val_losses.append(total_loss / len(val_loader))\n",
    "        val_accuracies.append(100 * correct / total)\n",
    "\n",
    "    return train_losses, val_losses, train_accuracies, val_accuracies\n"
   ]
  },
  {
   "cell_type": "code",
   "execution_count": null,
   "metadata": {},
   "outputs": [],
   "source": [
    "vocab_size = len(vocab)\n",
    "n_hidden = 64\n",
    "model = LLMModel1(vocab_size, n_hidden)\n",
    "model.to(mps_device)  # Move model to MPS device\n",
    "\n",
    "# Loss function and optimizer\n",
    "criterion = nn.CrossEntropyLoss()\n",
    "optimizer = torch.optim.Adam(model.parameters())\n",
    "\n",
    "num_epochs = 2\n",
    "device = mps_device\n",
    "\n",
    "train_losses, val_losses, train_accuracies, val_accuracies = train_model(model, train_loader, val_loader, optimizer, criterion, num_epochs, device)"
   ]
  },
  {
   "cell_type": "code",
   "execution_count": null,
   "metadata": {},
   "outputs": [],
   "source": [
    "import matplotlib.pyplot as plt\n",
    "\n",
    "def plot_training_history(train_losses, val_losses, train_accuracies=None, val_accuracies=None):\n",
    "    epochs = range(1, len(train_losses) + 1)\n",
    "\n",
    "    plt.figure(figsize=(12, 4))\n",
    "\n",
    "    # Plot loss\n",
    "    plt.subplot(1, 2, 1)\n",
    "    plt.plot(epochs, train_losses, 'bo-', label='Training loss')\n",
    "    plt.plot(epochs, val_losses, 'ro-', label='Validation loss')\n",
    "    plt.title('Training and Validation Loss')\n",
    "    plt.xlabel('Epoch')\n",
    "    plt.ylabel('Loss')\n",
    "    plt.legend()\n",
    "\n",
    "    # Plot accuracy if provided\n",
    "    if train_accuracies and val_accuracies:\n",
    "        plt.subplot(1, 2, 2)\n",
    "        plt.plot(epochs, train_accuracies, 'bo-', label='Training accuracy')\n",
    "        plt.plot(epochs, val_accuracies, 'ro-', label='Validation accuracy')\n",
    "        plt.title('Training and Validation Accuracy')\n",
    "        plt.xlabel('Epoch')\n",
    "        plt.ylabel('Accuracy')\n",
    "        plt.legend()\n",
    "\n",
    "    plt.show()\n"
   ]
  },
  {
   "cell_type": "code",
   "execution_count": null,
   "metadata": {},
   "outputs": [],
   "source": [
    "plot_training_history(train_losses, val_losses, train_accuracies, val_accuracies)"
   ]
  },
  {
   "cell_type": "markdown",
   "metadata": {},
   "source": [
    "### refactor to RNN"
   ]
  },
  {
   "cell_type": "code",
   "execution_count": null,
   "metadata": {},
   "outputs": [],
   "source": [
    "import torch\n",
    "import torch.nn as nn \n",
    "import torch.nn.functional as F \n",
    "\n",
    "class LLMModel2(nn.Module):\n",
    "    def __init__(self, vocab_size, n_hidden):\n",
    "        super(LLMModel2, self).__init__()  # Initialize the superclass\n",
    "        self.i_h = nn.Embedding(vocab_size, n_hidden) #vocab to hidden\n",
    "        self.h_h = nn.Linear(n_hidden, n_hidden) # hidden to hidden\n",
    "        self.h_o = nn.Linear(n_hidden, vocab_size) # hidden to vocab (logits)\n",
    "        \n",
    "    def forward(self, x):\n",
    "        \"\"\"hidden states are accumulated. subsequent hidden state is added to embedding of next token before being passed through next linear layer and ReLU\"\"\"\n",
    "        h = 0\n",
    "        for i in range(3):\n",
    "            h = h + self.i_h(x[:, i])\n",
    "            h = F.relu(self.h_h(h))\n",
    "        return self.h_o(h)\n",
    "\n"
   ]
  },
  {
   "cell_type": "code",
   "execution_count": null,
   "metadata": {},
   "outputs": [],
   "source": [
    "torch.mps.empty_cache()"
   ]
  },
  {
   "cell_type": "code",
   "execution_count": null,
   "metadata": {},
   "outputs": [],
   "source": [
    "vocab_size = len(vocab)\n",
    "n_hidden = 64\n",
    "model = LLMModel2(vocab_size, n_hidden)\n",
    "model.to(mps_device)  # Move model to MPS device\n",
    "\n",
    "# Loss function and optimizer\n",
    "criterion = nn.CrossEntropyLoss()\n",
    "optimizer = torch.optim.Adam(model.parameters())\n",
    "\n",
    "train_losses, val_losses, train_accuracies, val_accuracies = train_model(model, train_loader, val_loader, optimizer, criterion, num_epochs, device)"
   ]
  },
  {
   "cell_type": "markdown",
   "metadata": {},
   "source": [
    "### maintaining hidden state\n",
    "\n",
    "- instead of resetting to 0 for each forward"
   ]
  },
  {
   "cell_type": "code",
   "execution_count": null,
   "metadata": {},
   "outputs": [],
   "source": [
    "import torch\n",
    "import torch.nn as nn \n",
    "import torch.nn.functional as F \n",
    "\n",
    "class LLMModel3(nn.Module):\n",
    "    def __init__(self, vocab_size, n_hidden):\n",
    "        super(LLMModel3, self).__init__()  # Initialize the superclass\n",
    "        self.i_h = nn.Embedding(vocab_size, n_hidden) #vocab to hidden\n",
    "        self.h_h = nn.Linear(n_hidden, n_hidden) # hidden to hidden\n",
    "        self.h_o = nn.Linear(n_hidden, vocab_size) # hidden to vocab (logits)\n",
    "        self.h = 0\n",
    "        \n",
    "    def forward(self, x):\n",
    "        \"\"\"hidden states are accumulated. subsequent hidden state is added to embedding of next token before being passed through next linear layer and ReLU\"\"\"\n",
    "        for i in range(3):\n",
    "            self.h = self.h + self.i_h(x[:, i])\n",
    "            self.h = F.relu(self.h_h(self.h))\n",
    "        out = self.h_o(self.h)\n",
    "        self.h = self.h.detach() # stop tracking previous gradients\n",
    "        return out\n",
    "\n",
    "    def reset(self):\n",
    "        # Resets or reinitializes the hidden state to zero\n",
    "        self.h = 0\n",
    "\n",
    "\n",
    "# detach means we only calculate gradients of previous 3 steps (for loop) aka the steps used to calculate this self.h; this is used to avoid vanishing/exploding graidnets"
   ]
  },
  {
   "cell_type": "code",
   "execution_count": null,
   "metadata": {},
   "outputs": [],
   "source": [
    "torch.mps.empty_cache()\n",
    "\n",
    "\n",
    "model = LLMModel3(vocab_size, n_hidden)\n",
    "model.to(mps_device)  # Move model to MPS device\n",
    "\n",
    "# Loss function and optimizer\n",
    "criterion = nn.CrossEntropyLoss()\n",
    "optimizer = torch.optim.Adam(model.parameters())\n",
    "\n",
    "train_losses, val_losses, train_accuracies, val_accuracies = train_model(model, train_loader, val_loader, optimizer, criterion, num_epochs, device)"
   ]
  },
  {
   "cell_type": "markdown",
   "metadata": {},
   "source": [
    "slight boost in performance..."
   ]
  },
  {
   "cell_type": "markdown",
   "metadata": {},
   "source": [
    "### now instead of outputting one word per three input words, output after each step...\n",
    "\n",
    "this gives it more signal for back prop"
   ]
  },
  {
   "cell_type": "code",
   "execution_count": null,
   "metadata": {},
   "outputs": [],
   "source": [
    "sl = 16\n",
    "nums[i:i+sl], nums[i+1:i+sl+1]"
   ]
  },
  {
   "cell_type": "code",
   "execution_count": null,
   "metadata": {},
   "outputs": [],
   "source": [
    "# create dataset karpathy style\n",
    "sl = 16\n",
    "\n",
    "xs = []\n",
    "ys = []\n",
    "for i in range(0, len(nums) - sl-1, 1):\n",
    "    sixteen_tokens = torch.tensor(nums[i:i+16])  # Get a slice of three tokens\n",
    "    next_sixteen_tokens = torch.tensor(nums[i+1: i+sl+1])      # Get the token immediately following the slice\n",
    "    xs.append(sixteen_tokens)\n",
    "    ys.append(next_sixteen_tokens)\n",
    "\n",
    "# Assuming X and Y are your data tensors\n",
    "X = torch.stack(xs)\n",
    "Y = torch.stack(ys)\n",
    "dataset = TensorDataset(X, Y)\n",
    "\n",
    "# Calculate the sizes of splits\n",
    "train_size = int(0.8 * len(dataset))\n",
    "val_size = len(dataset) - train_size\n",
    "\n",
    "# Split the dataset (this method shuffles the data)\n",
    "# train_dataset, val_dataset = random_split(dataset, [train_size, val_size])\n",
    "\n",
    "# Split the dataset without shuffling\n",
    "train_dataset = TensorDataset(X[:train_size], Y[:train_size])\n",
    "val_dataset = TensorDataset(X[train_size:], Y[train_size:])\n",
    "\n",
    "# Create data loaders with drop_last=True to ensure all batches have the same size\n",
    "train_loader = DataLoader(train_dataset, batch_size=64, shuffle=False, drop_last=True)\n",
    "val_loader = DataLoader(val_dataset, batch_size=64, shuffle=False, drop_last=True)\n"
   ]
  },
  {
   "cell_type": "code",
   "execution_count": null,
   "metadata": {},
   "outputs": [],
   "source": [
    "i_ = 1\n",
    "xs[i_], ys[i_]\n",
    "\n",
    "for num in xs[i_]:\n",
    "    print(vocab[num])\n",
    "\n",
    "print('\\n')\n",
    "\n",
    "for num in ys[i_]:\n",
    "    print(vocab[num])"
   ]
  },
  {
   "cell_type": "code",
   "execution_count": null,
   "metadata": {},
   "outputs": [],
   "source": [
    "import torch\n",
    "import torch.nn as nn \n",
    "import torch.nn.functional as F \n",
    "\n",
    "class LLMModel4(nn.Module):\n",
    "    def __init__(self, vocab_size, n_hidden):\n",
    "        super(LLMModel4, self).__init__()  # Initialize the superclass\n",
    "        self.i_h = nn.Embedding(vocab_size, n_hidden) #vocab to hidden\n",
    "        self.h_h = nn.Linear(n_hidden, n_hidden) # hidden to hidden\n",
    "        self.h_o = nn.Linear(n_hidden, vocab_size) # hidden to vocab (logits)\n",
    "        self.h = 0\n",
    "        \n",
    "    def forward(self, x):\n",
    "        \"\"\"output a prediction after each word\n",
    "\n",
    "        will return outs as shape batch_size x seq_len x vocab_sz\n",
    "        \"\"\"\n",
    "        outs = [] # (batch_size x vocab_sz)\n",
    "        for i in range(sl): # CHANGED TO SL\n",
    "            self.h = self.h + self.i_h(x[:, i])\n",
    "            self.h = F.relu(self.h_h(self.h))\n",
    "            outs.append(self.h_o(self.h))\n",
    "        self.h = self.h.detach() # stop tracking previous gradients\n",
    "        return torch.stack(outs, dim=1)\n",
    "\n",
    "    def reset(self):\n",
    "        # Resets or reinitializes the hidden state to zero\n",
    "        self.h = 0\n"
   ]
  },
  {
   "cell_type": "code",
   "execution_count": null,
   "metadata": {},
   "outputs": [],
   "source": [
    "# dumb but we'll update the function for outputs.shape\n",
    "\n",
    "from tqdm import tqdm\n",
    "\n",
    "def train_model(model, train_loader, val_loader, optimizer, criterion, num_epochs, device):\n",
    "    train_losses = []\n",
    "    val_losses = []\n",
    "    train_accuracies = []\n",
    "    val_accuracies = []\n",
    "\n",
    "    for epoch in range(num_epochs):\n",
    "        # Training phase\n",
    "        model.train()\n",
    "        total_loss = 0\n",
    "        correct = 0\n",
    "        total = 0\n",
    "        progress_bar = tqdm(train_loader, desc=f'Epoch {epoch+1}/{num_epochs} [Train]')\n",
    "        for batch in progress_bar:\n",
    "            inputs, labels = batch\n",
    "            inputs, labels = inputs.to(device), labels.to(device)\n",
    "\n",
    "            optimizer.zero_grad()\n",
    "            outputs = model(inputs)\n",
    "\n",
    "            # FLATTTEN AND RESHAPE\n",
    "            outputs = outputs.view(-1, vocab_size)\n",
    "            labels = labels.view(-1)\n",
    "\n",
    "            loss = criterion(outputs, labels)\n",
    "            loss.backward()\n",
    "            optimizer.step()\n",
    "\n",
    "            total_loss += loss.item()\n",
    "            _, predicted = torch.max(outputs.data, 1)\n",
    "            total += labels.size(0)\n",
    "            correct += (predicted == labels).sum().item()\n",
    "\n",
    "            # Update progress bar\n",
    "            avg_loss = total_loss / total\n",
    "            accuracy = 100 * correct / total\n",
    "            progress_bar.set_postfix(loss=avg_loss, accuracy=f'{accuracy:.2f}%')\n",
    "\n",
    "        train_losses.append(total_loss / len(train_loader))\n",
    "        train_accuracies.append(100 * correct / total)\n",
    "\n",
    "        # Validation phase\n",
    "        model.eval()\n",
    "        total_loss = 0\n",
    "        correct = 0\n",
    "        total = 0\n",
    "        progress_bar = tqdm(val_loader, desc=f'Epoch {epoch+1}/{num_epochs} [Validation]')\n",
    "        with torch.no_grad():\n",
    "            for batch in progress_bar:\n",
    "                inputs, labels = batch\n",
    "                inputs, labels = inputs.to(device), labels.to(device)\n",
    "\n",
    "                outputs = model(inputs)\n",
    "\n",
    "                outputs = outputs.view(-1, vocab_size)\n",
    "                labels = labels.view(-1)\n",
    "\n",
    "                loss = criterion(outputs, labels)\n",
    "\n",
    "                total_loss += loss.item()\n",
    "                _, predicted = torch.max(outputs.data, 1)\n",
    "                total += labels.size(0)\n",
    "                correct += (predicted == labels).sum().item()\n",
    "\n",
    "                # Update progress bar\n",
    "                avg_loss = total_loss / total\n",
    "                accuracy = 100 * correct / total\n",
    "                progress_bar.set_postfix(loss=avg_loss, accuracy=f'{accuracy:.2f}%')\n",
    "\n",
    "        val_losses.append(total_loss / len(val_loader))\n",
    "        val_accuracies.append(100 * correct / total)\n",
    "\n",
    "    return train_losses, val_losses, train_accuracies, val_accuracies"
   ]
  },
  {
   "cell_type": "code",
   "execution_count": null,
   "metadata": {},
   "outputs": [],
   "source": [
    "torch.mps.empty_cache()\n",
    "\n",
    "\n",
    "model = LLMModel4(vocab_size, n_hidden)\n",
    "model.to(mps_device)  # Move model to MPS device\n",
    "\n",
    "# Loss function and optimizer\n",
    "criterion = nn.CrossEntropyLoss()\n",
    "optimizer = torch.optim.Adam(model.parameters())\n",
    "num_epochs = 10\n",
    "\n",
    "train_losses, val_losses, train_accuracies, val_accuracies = train_model(model, train_loader, val_loader, optimizer, criterion, num_epochs, device)"
   ]
  },
  {
   "cell_type": "markdown",
   "metadata": {},
   "source": [
    "### multi-layer RNNs"
   ]
  },
  {
   "cell_type": "code",
   "execution_count": null,
   "metadata": {},
   "outputs": [],
   "source": []
  },
  {
   "cell_type": "code",
   "execution_count": null,
   "metadata": {},
   "outputs": [],
   "source": []
  },
  {
   "cell_type": "code",
   "execution_count": null,
   "metadata": {},
   "outputs": [],
   "source": []
  },
  {
   "cell_type": "markdown",
   "metadata": {},
   "source": [
    "### detour of detach"
   ]
  },
  {
   "cell_type": "code",
   "execution_count": null,
   "metadata": {},
   "outputs": [],
   "source": [
    "import torch\n",
    "\n",
    "# Creating a simple computation graph\n",
    "x = torch.tensor([2.], requires_grad=True)\n",
    "y = x * 2\n",
    "\n",
    "# Without detach\n",
    "z = y * y  # z = (x * 2) * (x * 2) = 4x^2\n",
    "z.backward()  # Computes gradients for the whole graph\n",
    "gradients_without_detach = x.grad.item()  # Should be dz/dx = 8x, which is 16 when x = 2\n",
    "\n",
    "# Resetting gradients\n",
    "x.grad.data.zero_()\n",
    "\n",
    "# With detach\n",
    "y_detached = y.detach()  # y_detached is a new tensor with the same value as y but no history of operations\n",
    "# No need to call z.backward() because y_detached has no grad_fn\n",
    "# and thus won't contribute to gradients in x\n",
    "\n",
    "# The gradient of x should still be zero since the detached part does not contribute to the computation\n",
    "gradients_with_detach = x.grad.item()\n",
    "\n",
    "gradients_without_detach, gradients_with_detach\n"
   ]
  },
  {
   "cell_type": "code",
   "execution_count": null,
   "metadata": {},
   "outputs": [],
   "source": [
    "## torch.stack()\n",
    "lst = [torch.rand(2, 3) for i in range(3)]\n",
    "print([x.shape for x in lst])\n",
    "\n",
    "# stacking on dimension 1 maintains batch dimension, second dimension (1) becomes the timesteps\n",
    "torch.stack(lst, dim=1).shape, torch.stack(lst, dim=1)"
   ]
  },
  {
   "cell_type": "code",
   "execution_count": null,
   "metadata": {},
   "outputs": [],
   "source": [
    "torch.stack(lst, dim=0).shape, torch.stack(lst, dim=0)"
   ]
  },
  {
   "cell_type": "code",
   "execution_count": null,
   "metadata": {},
   "outputs": [],
   "source": []
  },
  {
   "cell_type": "code",
   "execution_count": null,
   "metadata": {},
   "outputs": [],
   "source": []
  },
  {
   "cell_type": "code",
   "execution_count": null,
   "metadata": {},
   "outputs": [],
   "source": []
  }
 ],
 "metadata": {
  "kernelspec": {
   "display_name": "_venv",
   "language": "python",
   "name": "python3"
  },
  "language_info": {
   "codemirror_mode": {
    "name": "ipython",
    "version": 3
   },
   "file_extension": ".py",
   "mimetype": "text/x-python",
   "name": "python",
   "nbconvert_exporter": "python",
   "pygments_lexer": "ipython3",
   "version": "3.9.13"
  }
 },
 "nbformat": 4,
 "nbformat_minor": 2
}
