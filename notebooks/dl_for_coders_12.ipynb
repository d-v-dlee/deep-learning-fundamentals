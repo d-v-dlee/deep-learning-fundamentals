{
 "cells": [
  {
   "cell_type": "markdown",
   "metadata": {},
   "source": [
    "# Chapter 12: A Language model from scratch"
   ]
  },
  {
   "cell_type": "code",
   "execution_count": 1,
   "metadata": {},
   "outputs": [],
   "source": [
    "import requests\n",
    "import gzip\n",
    "import pandas as pd\n",
    "\n",
    "# URL of the gzipped text file\n",
    "url = \"https://github.com/lsb/human-numbers/blob/trunk/one-hundred-thousand-numbers.txt.gz?raw=true\"\n",
    "\n",
    "# Downloading the file using requests\n",
    "response = requests.get(url)\n",
    "response.raise_for_status()  # This will raise an error if the download failed\n",
    "\n",
    "# Unzipping the content\n",
    "content = gzip.decompress(response.content).decode('utf-8')\n",
    "\n",
    "# Since the file contains numbers, each number on a new line, we can split the content into a list\n",
    "numbers = content.splitlines()"
   ]
  },
  {
   "cell_type": "code",
   "execution_count": 2,
   "metadata": {},
   "outputs": [
    {
     "data": {
      "text/plain": [
       "['zero',\n",
       " 'one',\n",
       " 'two',\n",
       " 'three',\n",
       " 'four',\n",
       " 'five',\n",
       " 'six',\n",
       " 'seven',\n",
       " 'eight',\n",
       " 'nine']"
      ]
     },
     "execution_count": 2,
     "metadata": {},
     "output_type": "execute_result"
    }
   ],
   "source": [
    "text = ' '.join(x for x in numbers)\n",
    "tokens = text.split(' ')\n",
    "\n",
    "tokens[:10]"
   ]
  },
  {
   "cell_type": "code",
   "execution_count": 3,
   "metadata": {},
   "outputs": [
    {
     "data": {
      "text/plain": [
       "30"
      ]
     },
     "execution_count": 3,
     "metadata": {},
     "output_type": "execute_result"
    }
   ],
   "source": [
    "vocab = sorted(list(set(tokens)))\n",
    "len(vocab)"
   ]
  },
  {
   "cell_type": "code",
   "execution_count": 26,
   "metadata": {},
   "outputs": [
    {
     "data": {
      "text/plain": [
       "[29, 14, 28, 25, 8, 6, 18, 15, 0, 11]"
      ]
     },
     "execution_count": 26,
     "metadata": {},
     "output_type": "execute_result"
    }
   ],
   "source": [
    "# token to numbers\n",
    "word2idx = {w:i for i, w in enumerate(vocab)}\n",
    "idx2word = {i:w for i, w in enumerate(vocab)}\n",
    "nums = [word2idx[i] for i in tokens]\n",
    "nums[:10]"
   ]
  },
  {
   "cell_type": "code",
   "execution_count": 5,
   "metadata": {},
   "outputs": [
    {
     "name": "stdout",
     "output_type": "stream",
     "text": [
      "29 zero\n",
      "14 one\n",
      "28 two\n",
      "25 three\n",
      "8 four\n",
      "6 five\n",
      "18 six\n",
      "15 seven\n",
      "0 eight\n",
      "11 nine\n",
      "21 ten\n",
      "3 eleven\n",
      "26 twelve\n",
      "22 thirteen\n",
      "9 fourteen\n",
      "4 fifteen\n",
      "19 sixteen\n",
      "16 seventeen\n",
      "1 eighteen\n",
      "12 nineteen\n",
      "27 twenty\n",
      "27 twenty\n",
      "14 one\n",
      "27 twenty\n",
      "28 two\n"
     ]
    }
   ],
   "source": [
    "for idx in nums[:25]:\n",
    "    print(idx, vocab[idx])"
   ]
  },
  {
   "cell_type": "markdown",
   "metadata": {},
   "source": [
    "### dataset prep"
   ]
  },
  {
   "cell_type": "code",
   "execution_count": 6,
   "metadata": {},
   "outputs": [
    {
     "name": "stdout",
     "output_type": "stream",
     "text": [
      "Three tokens: ['a', 'b', 'c'], Next token: d, Step: 0\n",
      "Three tokens: ['b', 'c', 'd'], Next token: e, Step: 1\n",
      "Three tokens: ['c', 'd', 'e'], Next token: f, Step: 2\n",
      "Three tokens: ['d', 'e', 'f'], Next token: g, Step: 3\n",
      "Three tokens: ['e', 'f', 'g'], Next token: h, Step: 4\n",
      "Three tokens: ['f', 'g', 'h'], Next token: i, Step: 5\n",
      "Three tokens: ['g', 'h', 'i'], Next token: j, Step: 6\n",
      "Three tokens: ['h', 'i', 'j'], Next token: k, Step: 7\n"
     ]
    }
   ],
   "source": [
    "dummy_tokens = ['a', 'b', 'c', 'd', 'e', 'f', 'g', 'h', 'i', 'j', 'k']  # Example list\n",
    "\n",
    "for i in range(0, len(dummy_tokens) - 3, 1):\n",
    "    three_tokens = dummy_tokens[i:i+3]  # Get a slice of three tokens\n",
    "    next_token = dummy_tokens[i+3]      # Get the token immediately following the slice\n",
    "    print(f\"Three tokens: {three_tokens}, Next token: {next_token}, Step: {i}\")"
   ]
  },
  {
   "cell_type": "code",
   "execution_count": 7,
   "metadata": {},
   "outputs": [
    {
     "data": {
      "text/plain": [
       "[(['hundred', 'ninety', 'three'], 'five'),\n",
       " (['ninety', 'three', 'five'], 'hundred'),\n",
       " (['three', 'five', 'hundred'], 'ninety'),\n",
       " (['five', 'hundred', 'ninety'], 'four'),\n",
       " (['hundred', 'ninety', 'four'], 'five'),\n",
       " (['ninety', 'four', 'five'], 'hundred'),\n",
       " (['four', 'five', 'hundred'], 'ninety'),\n",
       " (['five', 'hundred', 'ninety'], 'five'),\n",
       " (['hundred', 'ninety', 'five'], 'five'),\n",
       " (['ninety', 'five', 'five'], 'hundred'),\n",
       " (['five', 'five', 'hundred'], 'ninety'),\n",
       " (['five', 'hundred', 'ninety'], 'six'),\n",
       " (['hundred', 'ninety', 'six'], 'five'),\n",
       " (['ninety', 'six', 'five'], 'hundred'),\n",
       " (['six', 'five', 'hundred'], 'ninety'),\n",
       " (['five', 'hundred', 'ninety'], 'seven'),\n",
       " (['hundred', 'ninety', 'seven'], 'five'),\n",
       " (['ninety', 'seven', 'five'], 'hundred'),\n",
       " (['seven', 'five', 'hundred'], 'ninety'),\n",
       " (['five', 'hundred', 'ninety'], 'eight')]"
      ]
     },
     "execution_count": 7,
     "metadata": {},
     "output_type": "execute_result"
    }
   ],
   "source": [
    "### predict next token based on three previous tokens; book uses step size of 3 which has no overlap, i prefer 1\n",
    "[(tokens[i:i+3], tokens[i+3]) for i in range(0, len(tokens)-3, 1)][2000:2020] # change from 4-2 to 3-1"
   ]
  },
  {
   "cell_type": "code",
   "execution_count": 8,
   "metadata": {},
   "outputs": [],
   "source": [
    "import torch\n",
    "\n",
    "# Assuming 'mps_device' is defined as your MPS device\n",
    "mps_device = torch.device('mps')"
   ]
  },
  {
   "cell_type": "code",
   "execution_count": 9,
   "metadata": {},
   "outputs": [],
   "source": [
    "# create dataset karpathy style\n",
    "xs = []\n",
    "ys = []\n",
    "for i in range(0, len(tokens) - 3, 1):\n",
    "    three_tokens = torch.tensor(nums[i:i+3])  # Get a slice of three tokens\n",
    "    next_token = torch.tensor(nums[i+3])      # Get the token immediately following the slice\n",
    "    xs.append(three_tokens)\n",
    "    ys.append(next_token)"
   ]
  },
  {
   "cell_type": "code",
   "execution_count": 53,
   "metadata": {},
   "outputs": [
    {
     "data": {
      "text/plain": [
       "'three'"
      ]
     },
     "execution_count": 53,
     "metadata": {},
     "output_type": "execute_result"
    }
   ],
   "source": [
    "from collections import Counter\n",
    "\n",
    "def get_most_common_scalar(data):\n",
    "    \"\"\"given list of scalars, find the most comon scalar value\"\"\"\n",
    "    counter = Counter(data)\n",
    "    most_common = counter.most_common(1)[0][0]\n",
    "    return idx2word[most_common.item()]\n",
    "\n",
    "get_most_common_scalar(ys)"
   ]
  },
  {
   "cell_type": "code",
   "execution_count": 54,
   "metadata": {},
   "outputs": [],
   "source": [
    "import torch\n",
    "import torch.nn as nn \n",
    "import torch.nn.functional as F \n",
    "\n",
    "class LLMModel1(nn.Module):\n",
    "    def __init__(self, vocab_size, n_hidden):\n",
    "        super(LLMModel1, self).__init__()  # Initialize the superclass\n",
    "        self.i_h = nn.Embedding(vocab_size, n_hidden) #vocab to hidden\n",
    "        self.h_h = nn.Linear(n_hidden, n_hidden) # hidden to hidden\n",
    "        self.h_o = nn.Linear(n_hidden, vocab_size) # hidden to vocab (logits)\n",
    "        \n",
    "    def forward(self, x):\n",
    "        \"\"\"hidden states are accumulated. subsequent hidden state is added to embedding of next token before being passed through next linear layer and ReLU\"\"\"\n",
    "        # create first hidden state from first word\n",
    "        # embed --> linear --> relu\n",
    "        h = F.relu(self.h_h(self.i_h(x[:, 0])))\n",
    "\n",
    "        # second hidden state from second word\n",
    "        h = h + self.i_h(x[:, 1])\n",
    "        h = F.relu(self.h_h(h))\n",
    "\n",
    "        # hidden state from third word\n",
    "        h = h + self.i_h(x[:, 2])\n",
    "        h = F.relu(self.h_h(h))\n",
    "        return self.h_o(h)"
   ]
  },
  {
   "cell_type": "code",
   "execution_count": 55,
   "metadata": {},
   "outputs": [],
   "source": [
    "from torch.utils.data import TensorDataset, DataLoader\n",
    "\n",
    "# Assuming X and Y are your data tensors\n",
    "X = torch.stack(xs)\n",
    "Y = torch.stack(ys)\n",
    "dataset = TensorDataset(X, Y)\n",
    "\n",
    "# Calculate the sizes of splits\n",
    "train_size = int(0.8 * len(dataset))\n",
    "val_size = len(dataset) - train_size\n",
    "\n",
    "# Split the dataset (this method shuffles the data)\n",
    "# train_dataset, val_dataset = random_split(dataset, [train_size, val_size])\n",
    "\n",
    "# Split the dataset without shuffling\n",
    "train_dataset = TensorDataset(X[:train_size], Y[:train_size])\n",
    "val_dataset = TensorDataset(X[train_size:], Y[train_size:])\n",
    "\n",
    "# Create data loaders with drop_last=True to ensure all batches have the same size\n",
    "train_loader = DataLoader(train_dataset, batch_size=64, shuffle=False, drop_last=True)\n",
    "val_loader = DataLoader(val_dataset, batch_size=64, shuffle=False, drop_last=True)\n"
   ]
  },
  {
   "cell_type": "code",
   "execution_count": 56,
   "metadata": {},
   "outputs": [],
   "source": [
    "from tqdm import tqdm\n",
    "\n",
    "def train_model(model, train_loader, val_loader, optimizer, criterion, num_epochs, device):\n",
    "    train_losses = []\n",
    "    val_losses = []\n",
    "    train_accuracies = []\n",
    "    val_accuracies = []\n",
    "\n",
    "    for epoch in range(num_epochs):\n",
    "        # Training phase\n",
    "        model.train()\n",
    "        total_loss = 0\n",
    "        correct = 0\n",
    "        total = 0\n",
    "        progress_bar = tqdm(train_loader, desc=f'Epoch {epoch+1}/{num_epochs} [Train]')\n",
    "        for batch in progress_bar:\n",
    "            inputs, labels = batch\n",
    "            inputs, labels = inputs.to(device), labels.to(device)\n",
    "\n",
    "            optimizer.zero_grad()\n",
    "            outputs = model(inputs)\n",
    "            loss = criterion(outputs, labels)\n",
    "            loss.backward()\n",
    "            optimizer.step()\n",
    "\n",
    "            total_loss += loss.item()\n",
    "            _, predicted = torch.max(outputs.data, 1)\n",
    "            total += labels.size(0)\n",
    "            correct += (predicted == labels).sum().item()\n",
    "\n",
    "            # Update progress bar\n",
    "            avg_loss = total_loss / total\n",
    "            accuracy = 100 * correct / total\n",
    "            progress_bar.set_postfix(loss=avg_loss, accuracy=f'{accuracy:.2f}%')\n",
    "\n",
    "        train_losses.append(total_loss / len(train_loader))\n",
    "        train_accuracies.append(100 * correct / total)\n",
    "\n",
    "        # Validation phase\n",
    "        model.eval()\n",
    "        total_loss = 0\n",
    "        correct = 0\n",
    "        total = 0\n",
    "        progress_bar = tqdm(val_loader, desc=f'Epoch {epoch+1}/{num_epochs} [Validation]')\n",
    "        with torch.no_grad():\n",
    "            for batch in progress_bar:\n",
    "                inputs, labels = batch\n",
    "                inputs, labels = inputs.to(device), labels.to(device)\n",
    "\n",
    "                outputs = model(inputs)\n",
    "                loss = criterion(outputs, labels)\n",
    "\n",
    "                total_loss += loss.item()\n",
    "                _, predicted = torch.max(outputs.data, 1)\n",
    "                total += labels.size(0)\n",
    "                correct += (predicted == labels).sum().item()\n",
    "\n",
    "                # Update progress bar\n",
    "                avg_loss = total_loss / total\n",
    "                accuracy = 100 * correct / total\n",
    "                progress_bar.set_postfix(loss=avg_loss, accuracy=f'{accuracy:.2f}%')\n",
    "\n",
    "        val_losses.append(total_loss / len(val_loader))\n",
    "        val_accuracies.append(100 * correct / total)\n",
    "\n",
    "    return train_losses, val_losses, train_accuracies, val_accuracies, model\n"
   ]
  },
  {
   "cell_type": "code",
   "execution_count": 57,
   "metadata": {},
   "outputs": [
    {
     "name": "stderr",
     "output_type": "stream",
     "text": [
      "Epoch 1/2 [Train]: 100%|██████████| 7762/7762 [00:44<00:00, 173.98it/s, accuracy=54.25%, loss=0.022] \n",
      "Epoch 1/2 [Validation]: 100%|██████████| 1940/1940 [00:05<00:00, 331.82it/s, accuracy=39.38%, loss=0.0358]\n",
      "Epoch 2/2 [Train]: 100%|██████████| 7762/7762 [00:42<00:00, 184.61it/s, accuracy=53.56%, loss=0.022] \n",
      "Epoch 2/2 [Validation]: 100%|██████████| 1940/1940 [00:05<00:00, 365.05it/s, accuracy=40.01%, loss=0.0386]\n"
     ]
    }
   ],
   "source": [
    "vocab_size = len(vocab)\n",
    "n_hidden = 64\n",
    "model = LLMModel1(vocab_size, n_hidden)\n",
    "model.to(mps_device)  # Move model to MPS device\n",
    "\n",
    "# Loss function and optimizer\n",
    "criterion = nn.CrossEntropyLoss()\n",
    "optimizer = torch.optim.Adam(model.parameters())\n",
    "\n",
    "num_epochs = 2\n",
    "device = mps_device\n",
    "\n",
    "train_losses, val_losses, train_accuracies, val_accuracies, model = train_model(model, train_loader, val_loader, optimizer, criterion, num_epochs, device)"
   ]
  },
  {
   "cell_type": "code",
   "execution_count": 109,
   "metadata": {},
   "outputs": [
    {
     "name": "stdout",
     "output_type": "stream",
     "text": [
      "#Params: 8030\n",
      "input sequence: ['one', 'two', 'three'].\n",
      "prediction: eighty\n",
      "input sequence: ['twenty', 'one', 'twenty'].\n",
      "prediction: nine\n",
      "input sequence: ['zero', 'one', 'two'].\n",
      "prediction: thousand\n",
      "input sequence: ['one', 'hundred', 'one'].\n",
      "prediction: eighty\n"
     ]
    }
   ],
   "source": [
    "# print number of params in model\n",
    "def print_params(model):\n",
    "    num_params = 0\n",
    "    for param in model.parameters():\n",
    "        num_params += param.numel()\n",
    "    print(f\"#Params: {num_params}\")\n",
    "    return num_params\n",
    "\n",
    "def predict_next_word(model, input_sequence, word2idx, idx2word):\n",
    "    # Ensure the model is in evaluation mode\n",
    "    model.eval()\n",
    "    \n",
    "    # Convert the input sequence to a tensor of word indices\n",
    "    input_indices = [word2idx[word] for word in input_sequence]\n",
    "    input_tensor = torch.tensor(input_indices, dtype=torch.long).unsqueeze(0)  # Add a batch dimension\n",
    "    input_tensor = input_tensor.to(device)  # Move the tensor to the appropriate device\n",
    "    \n",
    "    # Get the prediction\n",
    "    with torch.no_grad():  # No need to track gradients for prediction\n",
    "        output = model(input_tensor)\n",
    "    \n",
    "    # Get the predicted word index\n",
    "    _, predicted_index = torch.max(output, 1) # output is of shape (1, vocab_size)\n",
    "    predicted_index = predicted_index.item()  # Convert to a Python integer\n",
    "    \n",
    "    # Convert the predicted index to the corresponding word\n",
    "    predicted_word = idx2word[predicted_index]\n",
    "    print(f'input sequence: {input_sequence}.\\nprediction: {predicted_word}')\n",
    "    model.reset()\n",
    "\n",
    "\n",
    "print_params(model)\n",
    "\n",
    "# Example usage\n",
    "input_sequence = ['one', 'two', 'three']\n",
    "predict_next_word(model, input_sequence, word2idx, idx2word)\n",
    "\n",
    "input_sequence = ['twenty', 'one', 'twenty']\n",
    "predict_next_word(model, input_sequence, word2idx, idx2word)\n",
    "\n",
    "input_sequence = ['zero', 'one', 'two']\n",
    "predict_next_word(model, input_sequence, word2idx, idx2word)\n",
    "\n",
    "input_sequence = ['one', 'hundred', 'one']\n",
    "predict_next_word(model, input_sequence, word2idx, idx2word)\n"
   ]
  },
  {
   "cell_type": "code",
   "execution_count": 59,
   "metadata": {},
   "outputs": [
    {
     "data": {
      "text/plain": [
       "'thousand'"
      ]
     },
     "execution_count": 59,
     "metadata": {},
     "output_type": "execute_result"
    }
   ],
   "source": [
    "input_sequence = ['twenty', 'one', 'twenty']\n",
    "\n",
    "model.eval()\n",
    "    \n",
    "# Convert the input sequence to a tensor of word indices\n",
    "input_indices = [word2idx[word] for word in input_sequence]\n",
    "input_tensor = torch.tensor(input_indices, dtype=torch.long).unsqueeze(0)  # Add a batch dimension\n",
    "input_tensor = input_tensor.to(device)  # Move the tensor to the appropriate device\n",
    "\n",
    "with torch.no_grad():  # No need to track gradients for prediction\n",
    "    output = model(input_tensor)\n",
    "\n",
    "_, predicted_index = torch.max(output, 1) # output is of shape (1, vocab_size)\n",
    "predicted_index = predicted_index.item()  # Convert to a Python integer\n",
    "    \n",
    "# Convert the predicted index to the corresponding word\n",
    "predicted_word = idx2word[predicted_index]\n",
    "\n",
    "predicted_word"
   ]
  },
  {
   "cell_type": "code",
   "execution_count": 60,
   "metadata": {},
   "outputs": [
    {
     "data": {
      "text/plain": [
       "torch.Size([1, 30])"
      ]
     },
     "execution_count": 60,
     "metadata": {},
     "output_type": "execute_result"
    }
   ],
   "source": [
    "output.shape"
   ]
  },
  {
   "cell_type": "code",
   "execution_count": 61,
   "metadata": {},
   "outputs": [],
   "source": [
    "import matplotlib.pyplot as plt\n",
    "\n",
    "def plot_training_history(train_losses, val_losses, train_accuracies=None, val_accuracies=None):\n",
    "    epochs = range(1, len(train_losses) + 1)\n",
    "\n",
    "    plt.figure(figsize=(12, 4))\n",
    "\n",
    "    # Plot loss\n",
    "    plt.subplot(1, 2, 1)\n",
    "    plt.plot(epochs, train_losses, 'bo-', label='Training loss')\n",
    "    plt.plot(epochs, val_losses, 'ro-', label='Validation loss')\n",
    "    plt.title('Training and Validation Loss')\n",
    "    plt.xlabel('Epoch')\n",
    "    plt.ylabel('Loss')\n",
    "    plt.legend()\n",
    "\n",
    "    # Plot accuracy if provided\n",
    "    if train_accuracies and val_accuracies:\n",
    "        plt.subplot(1, 2, 2)\n",
    "        plt.plot(epochs, train_accuracies, 'bo-', label='Training accuracy')\n",
    "        plt.plot(epochs, val_accuracies, 'ro-', label='Validation accuracy')\n",
    "        plt.title('Training and Validation Accuracy')\n",
    "        plt.xlabel('Epoch')\n",
    "        plt.ylabel('Accuracy')\n",
    "        plt.legend()\n",
    "\n",
    "    plt.show()\n"
   ]
  },
  {
   "cell_type": "code",
   "execution_count": 62,
   "metadata": {},
   "outputs": [
    {
     "data": {
      "image/png": "[encoded data removed]",
      "text/plain": [
       "<Figure size 1200x400 with 2 Axes>"
      ]
     },
     "metadata": {},
     "output_type": "display_data"
    }
   ],
   "source": [
    "plot_training_history(train_losses, val_losses, train_accuracies, val_accuracies)"
   ]
  },
  {
   "cell_type": "markdown",
   "metadata": {},
   "source": [
    "### refactor to RNN"
   ]
  },
  {
   "cell_type": "code",
   "execution_count": 63,
   "metadata": {},
   "outputs": [],
   "source": [
    "import torch\n",
    "import torch.nn as nn \n",
    "import torch.nn.functional as F \n",
    "\n",
    "class LLMModel2(nn.Module):\n",
    "    def __init__(self, vocab_size, n_hidden):\n",
    "        super(LLMModel2, self).__init__()  # Initialize the superclass\n",
    "        self.i_h = nn.Embedding(vocab_size, n_hidden) #vocab to hidden\n",
    "        self.h_h = nn.Linear(n_hidden, n_hidden) # hidden to hidden\n",
    "        self.h_o = nn.Linear(n_hidden, vocab_size) # hidden to vocab (logits)\n",
    "        \n",
    "    def forward(self, x):\n",
    "        \"\"\"hidden states are accumulated. subsequent hidden state is added to embedding of next token before being passed through next linear layer and ReLU\"\"\"\n",
    "        h = 0\n",
    "        for i in range(3):\n",
    "            h = h + self.i_h(x[:, i])\n",
    "            h = F.relu(self.h_h(h))\n",
    "        return self.h_o(h)\n",
    "\n"
   ]
  },
  {
   "cell_type": "code",
   "execution_count": 64,
   "metadata": {},
   "outputs": [],
   "source": [
    "torch.mps.empty_cache()"
   ]
  },
  {
   "cell_type": "code",
   "execution_count": 65,
   "metadata": {},
   "outputs": [
    {
     "name": "stderr",
     "output_type": "stream",
     "text": [
      "Epoch 1/2 [Train]: 100%|██████████| 7762/7762 [00:42<00:00, 182.56it/s, accuracy=54.77%, loss=0.0219]\n",
      "Epoch 1/2 [Validation]: 100%|██████████| 1940/1940 [00:05<00:00, 340.73it/s, accuracy=40.17%, loss=0.035] \n",
      "Epoch 2/2 [Train]: 100%|██████████| 7762/7762 [00:42<00:00, 181.92it/s, accuracy=54.16%, loss=0.022] \n",
      "Epoch 2/2 [Validation]: 100%|██████████| 1940/1940 [00:05<00:00, 357.87it/s, accuracy=40.08%, loss=0.0376]\n"
     ]
    }
   ],
   "source": [
    "vocab_size = len(vocab)\n",
    "n_hidden = 64\n",
    "model = LLMModel2(vocab_size, n_hidden)\n",
    "model.to(mps_device)  # Move model to MPS device\n",
    "\n",
    "# Loss function and optimizer\n",
    "criterion = nn.CrossEntropyLoss()\n",
    "optimizer = torch.optim.Adam(model.parameters())\n",
    "\n",
    "train_losses, val_losses, train_accuracies, val_accuracies, model = train_model(model, train_loader, val_loader, optimizer, criterion, num_epochs, device)"
   ]
  },
  {
   "cell_type": "code",
   "execution_count": 66,
   "metadata": {},
   "outputs": [
    {
     "name": "stdout",
     "output_type": "stream",
     "text": [
      "input sequence: ['one', 'two', 'three'].\n",
      "prediction: thousand\n",
      "input sequence: ['twenty', 'one', 'twenty'].\n",
      "prediction: five\n",
      "input sequence: ['zero', 'one', 'two'].\n",
      "prediction: thousand\n",
      "input sequence: ['one', 'hundred', 'one'].\n",
      "prediction: eighty\n"
     ]
    }
   ],
   "source": [
    "# Example usage\n",
    "input_sequence = ['one', 'two', 'three']\n",
    "predict_next_word(model, input_sequence, word2idx, idx2word)\n",
    "\n",
    "input_sequence = ['twenty', 'one', 'twenty']\n",
    "predict_next_word(model, input_sequence, word2idx, idx2word)\n",
    "\n",
    "input_sequence = ['zero', 'one', 'two']\n",
    "predict_next_word(model, input_sequence, word2idx, idx2word)\n",
    "\n",
    "input_sequence = ['one', 'hundred', 'one']\n",
    "predict_next_word(model, input_sequence, word2idx, idx2word)"
   ]
  },
  {
   "cell_type": "markdown",
   "metadata": {},
   "source": [
    "### maintaining hidden state\n",
    "\n",
    "- instead of resetting to 0 for each forward"
   ]
  },
  {
   "cell_type": "code",
   "execution_count": 67,
   "metadata": {},
   "outputs": [],
   "source": [
    "import torch\n",
    "import torch.nn as nn \n",
    "import torch.nn.functional as F \n",
    "\n",
    "class LLMModel3(nn.Module):\n",
    "    def __init__(self, vocab_size, n_hidden):\n",
    "        super(LLMModel3, self).__init__()  # Initialize the superclass\n",
    "        self.i_h = nn.Embedding(vocab_size, n_hidden) #vocab to hidden\n",
    "        self.h_h = nn.Linear(n_hidden, n_hidden) # hidden to hidden\n",
    "        self.h_o = nn.Linear(n_hidden, vocab_size) # hidden to vocab (logits)\n",
    "        self.h = 0\n",
    "        \n",
    "    def forward(self, x):\n",
    "        \"\"\"hidden states are accumulated. subsequent hidden state is added to embedding of next token before being passed through next linear layer and ReLU\"\"\"\n",
    "        for i in range(3):\n",
    "            self.h = self.h + self.i_h(x[:, i])\n",
    "            self.h = F.relu(self.h_h(self.h))\n",
    "        out = self.h_o(self.h)\n",
    "        self.h = self.h.detach() # stop tracking previous gradients\n",
    "        return out\n",
    "\n",
    "    def reset(self):\n",
    "        # Resets or reinitializes the hidden state to zero\n",
    "        self.h = 0\n",
    "\n",
    "\n",
    "# detach means we only calculate gradients of previous 3 steps (for loop) aka the steps used to calculate this self.h; this is used to avoid vanishing/exploding graidnets"
   ]
  },
  {
   "cell_type": "code",
   "execution_count": 68,
   "metadata": {},
   "outputs": [
    {
     "name": "stderr",
     "output_type": "stream",
     "text": [
      "Epoch 1/2 [Train]: 100%|██████████| 7762/7762 [00:41<00:00, 188.43it/s, accuracy=57.40%, loss=0.0198]\n",
      "Epoch 1/2 [Validation]: 100%|██████████| 1940/1940 [00:05<00:00, 352.54it/s, accuracy=41.06%, loss=0.039] \n",
      "Epoch 2/2 [Train]: 100%|██████████| 7762/7762 [00:41<00:00, 188.28it/s, accuracy=57.70%, loss=0.0194]\n",
      "Epoch 2/2 [Validation]: 100%|██████████| 1940/1940 [00:05<00:00, 353.96it/s, accuracy=38.95%, loss=0.0394]\n"
     ]
    }
   ],
   "source": [
    "torch.mps.empty_cache()\n",
    "\n",
    "\n",
    "model = LLMModel3(vocab_size, n_hidden)\n",
    "model.to(mps_device)  # Move model to MPS device\n",
    "\n",
    "# Loss function and optimizer\n",
    "criterion = nn.CrossEntropyLoss()\n",
    "optimizer = torch.optim.Adam(model.parameters())\n",
    "\n",
    "train_losses, val_losses, train_accuracies, val_accuracies, model = train_model(model, train_loader, val_loader, optimizer, criterion, num_epochs, device)"
   ]
  },
  {
   "cell_type": "code",
   "execution_count": 70,
   "metadata": {},
   "outputs": [
    {
     "name": "stdout",
     "output_type": "stream",
     "text": [
      "#Params: 8030\n"
     ]
    },
    {
     "data": {
      "text/plain": [
       "8030"
      ]
     },
     "execution_count": 70,
     "metadata": {},
     "output_type": "execute_result"
    }
   ],
   "source": [
    "print_params(model)"
   ]
  },
  {
   "cell_type": "code",
   "execution_count": 71,
   "metadata": {},
   "outputs": [
    {
     "data": {
      "text/plain": [
       "LLMModel3(\n",
       "  (i_h): Embedding(30, 64)\n",
       "  (h_h): Linear(in_features=64, out_features=64, bias=True)\n",
       "  (h_o): Linear(in_features=64, out_features=30, bias=True)\n",
       ")"
      ]
     },
     "execution_count": 71,
     "metadata": {},
     "output_type": "execute_result"
    }
   ],
   "source": [
    "model"
   ]
  },
  {
   "cell_type": "code",
   "execution_count": 110,
   "metadata": {},
   "outputs": [
    {
     "name": "stdout",
     "output_type": "stream",
     "text": [
      "input sequence: ['one', 'two', 'three'].\n",
      "prediction: thousand\n",
      "input sequence: ['twenty', 'one', 'twenty'].\n",
      "prediction: nine\n",
      "input sequence: ['zero', 'one', 'two'].\n",
      "prediction: thousand\n",
      "input sequence: ['one', 'hundred', 'one'].\n",
      "prediction: eighty\n"
     ]
    }
   ],
   "source": [
    "model.reset()\n",
    "\n",
    "# Example usage\n",
    "input_sequence = ['one', 'two', 'three']\n",
    "predict_next_word(model, input_sequence, word2idx, idx2word)\n",
    "\n",
    "input_sequence = ['twenty', 'one', 'twenty']\n",
    "predict_next_word(model, input_sequence, word2idx, idx2word)\n",
    "\n",
    "input_sequence = ['zero', 'one', 'two']\n",
    "predict_next_word(model, input_sequence, word2idx, idx2word)\n",
    "\n",
    "input_sequence = ['one', 'hundred', 'one']\n",
    "predict_next_word(model, input_sequence, word2idx, idx2word)\n",
    "\n"
   ]
  },
  {
   "cell_type": "markdown",
   "metadata": {},
   "source": [
    "slight boost in performance..."
   ]
  },
  {
   "cell_type": "markdown",
   "metadata": {},
   "source": [
    "### now instead of outputting one word per three input words, output after each step...\n",
    "\n",
    "this gives it more signal for back prop"
   ]
  },
  {
   "cell_type": "code",
   "execution_count": 111,
   "metadata": {},
   "outputs": [
    {
     "data": {
      "text/plain": [
       "([11, 10, 13, 11], [10, 13, 11])"
      ]
     },
     "execution_count": 111,
     "metadata": {},
     "output_type": "execute_result"
    }
   ],
   "source": [
    "sl = 16\n",
    "nums[i:i+sl], nums[i+1:i+sl+1]"
   ]
  },
  {
   "cell_type": "code",
   "execution_count": 112,
   "metadata": {},
   "outputs": [],
   "source": [
    "# create dataset karpathy style\n",
    "sl = 16\n",
    "\n",
    "xs = []\n",
    "ys = []\n",
    "for i in range(0, len(nums) - sl-1, 1):\n",
    "    sixteen_tokens = torch.tensor(nums[i:i+16])  # Get a slice of three tokens\n",
    "    next_sixteen_tokens = torch.tensor(nums[i+1: i+sl+1])      # Get the token immediately following the slice\n",
    "    xs.append(sixteen_tokens)\n",
    "    ys.append(next_sixteen_tokens)\n",
    "\n",
    "# Assuming X and Y are your data tensors\n",
    "X = torch.stack(xs)\n",
    "Y = torch.stack(ys)\n",
    "dataset = TensorDataset(X, Y)\n",
    "\n",
    "# Calculate the sizes of splits\n",
    "train_size = int(0.8 * len(dataset))\n",
    "val_size = len(dataset) - train_size\n",
    "\n",
    "# Split the dataset (this method shuffles the data)\n",
    "# train_dataset, val_dataset = random_split(dataset, [train_size, val_size])\n",
    "\n",
    "# Split the dataset without shuffling\n",
    "train_dataset = TensorDataset(X[:train_size], Y[:train_size])\n",
    "val_dataset = TensorDataset(X[train_size:], Y[train_size:])\n",
    "\n",
    "# Create data loaders with drop_last=True to ensure all batches have the same size\n",
    "train_loader = DataLoader(train_dataset, batch_size=64, shuffle=False, drop_last=True)\n",
    "val_loader = DataLoader(val_dataset, batch_size=64, shuffle=False, drop_last=True)\n"
   ]
  },
  {
   "cell_type": "code",
   "execution_count": 113,
   "metadata": {},
   "outputs": [
    {
     "name": "stdout",
     "output_type": "stream",
     "text": [
      "one\n",
      "two\n",
      "three\n",
      "four\n",
      "five\n",
      "six\n",
      "seven\n",
      "eight\n",
      "nine\n",
      "ten\n",
      "eleven\n",
      "twelve\n",
      "thirteen\n",
      "fourteen\n",
      "fifteen\n",
      "sixteen\n",
      "\n",
      "\n",
      "two\n",
      "three\n",
      "four\n",
      "five\n",
      "six\n",
      "seven\n",
      "eight\n",
      "nine\n",
      "ten\n",
      "eleven\n",
      "twelve\n",
      "thirteen\n",
      "fourteen\n",
      "fifteen\n",
      "sixteen\n",
      "seventeen\n"
     ]
    }
   ],
   "source": [
    "i_ = 1\n",
    "xs[i_], ys[i_]\n",
    "\n",
    "for num in xs[i_]:\n",
    "    print(vocab[num])\n",
    "\n",
    "print('\\n')\n",
    "\n",
    "for num in ys[i_]:\n",
    "    print(vocab[num])"
   ]
  },
  {
   "cell_type": "code",
   "execution_count": 114,
   "metadata": {},
   "outputs": [],
   "source": [
    "import torch\n",
    "import torch.nn as nn \n",
    "import torch.nn.functional as F \n",
    "\n",
    "class LLMModel4(nn.Module):\n",
    "    def __init__(self, vocab_size, n_hidden):\n",
    "        super(LLMModel4, self).__init__()  # Initialize the superclass\n",
    "        self.i_h = nn.Embedding(vocab_size, n_hidden) #vocab to hidden\n",
    "        self.h_h = nn.Linear(n_hidden, n_hidden) # hidden to hidden\n",
    "        self.h_o = nn.Linear(n_hidden, vocab_size) # hidden to vocab (logits)\n",
    "        self.h = 0\n",
    "        \n",
    "    def forward(self, x):\n",
    "        \"\"\"output a prediction after each word\n",
    "\n",
    "        will return outs as shape batch_size x seq_len x vocab_sz\n",
    "        \"\"\"\n",
    "        outs = [] # (batch_size x vocab_sz)\n",
    "        for i in range(sl): # CHANGED TO SL\n",
    "            self.h = self.h + self.i_h(x[:, i])\n",
    "            self.h = F.relu(self.h_h(self.h))\n",
    "            outs.append(self.h_o(self.h))\n",
    "        self.h = self.h.detach() # stop tracking previous gradients\n",
    "        return torch.stack(outs, dim=1)\n",
    "\n",
    "    def reset(self):\n",
    "        # Resets or reinitializes the hidden state to zero\n",
    "        self.h = 0\n"
   ]
  },
  {
   "cell_type": "code",
   "execution_count": 115,
   "metadata": {},
   "outputs": [],
   "source": [
    "# dumb but we'll update the function for outputs.shape\n",
    "\n",
    "from tqdm import tqdm\n",
    "\n",
    "def train_model(model, train_loader, val_loader, optimizer, criterion, num_epochs, device):\n",
    "    train_losses = []\n",
    "    val_losses = []\n",
    "    train_accuracies = []\n",
    "    val_accuracies = []\n",
    "\n",
    "    for epoch in range(num_epochs):\n",
    "        # Training phase\n",
    "        model.train()\n",
    "        total_loss = 0\n",
    "        correct = 0\n",
    "        total = 0\n",
    "        progress_bar = tqdm(train_loader, desc=f'Epoch {epoch+1}/{num_epochs} [Train]')\n",
    "        for batch in progress_bar:\n",
    "            inputs, labels = batch\n",
    "            inputs, labels = inputs.to(device), labels.to(device)\n",
    "\n",
    "            optimizer.zero_grad()\n",
    "            outputs = model(inputs)\n",
    "\n",
    "            # FLATTTEN AND RESHAPE\n",
    "            outputs = outputs.view(-1, vocab_size)\n",
    "            labels = labels.view(-1)\n",
    "\n",
    "            loss = criterion(outputs, labels)\n",
    "            loss.backward()\n",
    "            optimizer.step()\n",
    "\n",
    "            total_loss += loss.item()\n",
    "            _, predicted = torch.max(outputs.data, 1)\n",
    "            total += labels.size(0)\n",
    "            correct += (predicted == labels).sum().item()\n",
    "\n",
    "            # Update progress bar\n",
    "            avg_loss = total_loss / total\n",
    "            accuracy = 100 * correct / total\n",
    "            progress_bar.set_postfix(loss=avg_loss, accuracy=f'{accuracy:.2f}%')\n",
    "\n",
    "        train_losses.append(total_loss / len(train_loader))\n",
    "        train_accuracies.append(100 * correct / total)\n",
    "\n",
    "        # Validation phase\n",
    "        model.eval()\n",
    "        total_loss = 0\n",
    "        correct = 0\n",
    "        total = 0\n",
    "        progress_bar = tqdm(val_loader, desc=f'Epoch {epoch+1}/{num_epochs} [Validation]')\n",
    "        with torch.no_grad():\n",
    "            for batch in progress_bar:\n",
    "                inputs, labels = batch\n",
    "                inputs, labels = inputs.to(device), labels.to(device)\n",
    "\n",
    "                outputs = model(inputs)\n",
    "\n",
    "                outputs = outputs.view(-1, vocab_size)\n",
    "                labels = labels.view(-1)\n",
    "\n",
    "                loss = criterion(outputs, labels)\n",
    "\n",
    "                total_loss += loss.item()\n",
    "                _, predicted = torch.max(outputs.data, 1)\n",
    "                total += labels.size(0)\n",
    "                correct += (predicted == labels).sum().item()\n",
    "\n",
    "                # Update progress bar\n",
    "                avg_loss = total_loss / total\n",
    "                accuracy = 100 * correct / total\n",
    "                progress_bar.set_postfix(loss=avg_loss, accuracy=f'{accuracy:.2f}%')\n",
    "\n",
    "        val_losses.append(total_loss / len(val_loader))\n",
    "        val_accuracies.append(100 * correct / total)\n",
    "\n",
    "    return train_losses, val_losses, train_accuracies, val_accuracies"
   ]
  },
  {
   "cell_type": "code",
   "execution_count": 116,
   "metadata": {},
   "outputs": [
    {
     "name": "stderr",
     "output_type": "stream",
     "text": [
      "Epoch 1/5 [Train]: 100%|██████████| 7762/7762 [01:57<00:00, 66.31it/s, accuracy=55.41%, loss=0.00131]\n",
      "Epoch 1/5 [Validation]: 100%|██████████| 1940/1940 [00:11<00:00, 163.80it/s, accuracy=25.69%, loss=0.00279]\n",
      "Epoch 2/5 [Train]: 100%|██████████| 7762/7762 [01:57<00:00, 66.33it/s, accuracy=57.04%, loss=0.00126]\n",
      "Epoch 2/5 [Validation]: 100%|██████████| 1940/1940 [00:11<00:00, 171.43it/s, accuracy=28.11%, loss=0.00273]\n",
      "Epoch 3/5 [Train]: 100%|██████████| 7762/7762 [01:57<00:00, 66.34it/s, accuracy=51.70%, loss=0.00147]\n",
      "Epoch 3/5 [Validation]: 100%|██████████| 1940/1940 [00:11<00:00, 170.65it/s, accuracy=27.86%, loss=0.00262]\n",
      "Epoch 4/5 [Train]: 100%|██████████| 7762/7762 [01:56<00:00, 66.42it/s, accuracy=51.60%, loss=0.00145]\n",
      "Epoch 4/5 [Validation]: 100%|██████████| 1940/1940 [00:11<00:00, 162.80it/s, accuracy=27.38%, loss=0.0025] \n",
      "Epoch 5/5 [Train]: 100%|██████████| 7762/7762 [01:59<00:00, 64.82it/s, accuracy=51.88%, loss=0.00146]\n",
      "Epoch 5/5 [Validation]: 100%|██████████| 1940/1940 [00:11<00:00, 163.96it/s, accuracy=28.78%, loss=0.00253]\n"
     ]
    }
   ],
   "source": [
    "torch.mps.empty_cache()\n",
    "\n",
    "\n",
    "model = LLMModel4(vocab_size, n_hidden)\n",
    "model.to(mps_device)  # Move model to MPS device\n",
    "\n",
    "# Loss function and optimizer\n",
    "criterion = nn.CrossEntropyLoss()\n",
    "optimizer = torch.optim.Adam(model.parameters())\n",
    "num_epochs = 5\n",
    "\n",
    "train_losses, val_losses, train_accuracies, val_accuracies = train_model(model, train_loader, val_loader, optimizer, criterion, num_epochs, device)"
   ]
  },
  {
   "cell_type": "code",
   "execution_count": 119,
   "metadata": {},
   "outputs": [
    {
     "data": {
      "text/plain": [
       "['thousand',\n",
       " 'eighty',\n",
       " 'eighty',\n",
       " 'seventy',\n",
       " 'eighty',\n",
       " 'seventy',\n",
       " 'seventy',\n",
       " 'eighty',\n",
       " 'seventy',\n",
       " 'seventy',\n",
       " 'eighty',\n",
       " 'seventy',\n",
       " 'seventy',\n",
       " 'eighty',\n",
       " 'seventy',\n",
       " 'seventy']"
      ]
     },
     "execution_count": 119,
     "metadata": {},
     "output_type": "execute_result"
    }
   ],
   "source": [
    "# Define your sequence length\n",
    "sl = 16\n",
    "\n",
    "model.reset()\n",
    "\n",
    "# Make sure to have your word2idx dictionary ready to convert words to indices\n",
    "input_sequence = ['one', 'hundred', 'one', \n",
    "                  'one', 'hundred', 'two',\n",
    "                  'one', 'hundred', 'three', \n",
    "                  'one', 'hundred', 'four',\n",
    "                  'one', 'hundred', 'five',\n",
    "                  'one']  # sequence of length sl\n",
    "\n",
    "# Convert input sequence to tensor of word indices\n",
    "input_indices = [word2idx[word] for word in input_sequence]\n",
    "input_tensor = torch.tensor(input_indices, dtype=torch.long).unsqueeze(0)  # Add batch dimension\n",
    "input_tensor = input_tensor.to(device)  # Move to the appropriate device\n",
    "\n",
    "# Set model to evaluation mode\n",
    "model.eval()\n",
    "\n",
    "# Get predictions\n",
    "with torch.no_grad():\n",
    "    logits = model(input_tensor)  # Logits will have shape [1, sl, vocab_size] since we did unsqueeze\n",
    "\n",
    "# If you want to get the most likely word predictions for each position in the sequence:\n",
    "predictions = torch.argmax(logits, dim=2)  # This will give you [1, sl] tensor of word indices\n",
    "\n",
    "# Convert predicted indices to words\n",
    "predicted_words = [idx2word[idx.item()] for idx in predictions[0]]\n",
    "predicted_words"
   ]
  },
  {
   "cell_type": "markdown",
   "metadata": {},
   "source": [
    "### multi-layer RNNs \n",
    "\n",
    "will suffer from exploding...vanishing gradients..."
   ]
  },
  {
   "cell_type": "code",
   "execution_count": 120,
   "metadata": {},
   "outputs": [],
   "source": [
    "### LSTM\n",
    "\n",
    "class LSTMCell(nn.Module):\n",
    "    def __init__(self, ni, nh):\n",
    "        self.forget_gate = nn.Linear(ni + nh, nh) # since we stack ni + nh into one tensor\n",
    "        self.input_gate = nn.Linear(ni + nh, nh)\n",
    "        self.cell_gate = nn.Linear(ni + nh, nh)\n",
    "        self.output_gate = nn.Linear(ni + nh, nh)\n",
    "    \n",
    "    def forward(self, input, state):\n",
    "        h, c = state # hidden state and cell state \n",
    "        h = torch.stack([h, input], dim=1) # stack h and input together\n",
    "\n",
    "        # forget cell state\n",
    "        forget = torch.sigmoid(self.forget_gate(h)) # linear then sigmoid will squash values between 0 and 1\n",
    "        c = c * forget # multiply by forget gate; aka what should we forget or remember\n",
    "\n",
    "        # update cell state\n",
    "        inp = torch.sigmoid(self.input_gate(h)) # what should we update; will be between 0 and 1\n",
    "        cell = torch.tanh(self.cell_gate(h)) # what should the updated values be; will be between -1 and 1\n",
    "        c = c + (inp * cell)\n",
    "\n",
    "        # generate new hidden state, using h and c\n",
    "        out = torch.sigmoid(self.output_gate(h)) # between 0 and 1\n",
    "        h = out * torch.tanh(c) # multipled by tanh which is between -1 and 1\n",
    "        return h, (h, c)\n",
    "    \n",
    "### Refactor for speed into one giant matrix multiplication\n",
    "    \n",
    "class LSTMCell(nn.Module):\n",
    "    def __init__(self, ni, nh):\n",
    "        self.ih = nn.Linear(ni, 4 * nh)\n",
    "        self.hh = nn.Linear(nh, 4 * nh)\n",
    "    \n",
    "    def forward(self, input, state):\n",
    "        h, c = state # hidden state and cell state \n",
    "        # One big matmul for all gates\n",
    "        gates = (self.ih(input) + self.hh(h)).chunk(4, 1)\n",
    "        ingate, forgetgate, outgate = map(torch.sigmoid, gates[:3]) \n",
    "        cellgate = gates[3].tanh()\n",
    "\n",
    "        c = (forgetgate * c) + (ingate * cellgate)\n",
    "        h = outgate * c.tanh()\n",
    "        return h, (h, c)\n"
   ]
  },
  {
   "cell_type": "code",
   "execution_count": 123,
   "metadata": {},
   "outputs": [
    {
     "data": {
      "text/plain": [
       "(tensor([0, 1, 2, 3, 4]), tensor([5, 6, 7, 8, 9]))"
      ]
     },
     "execution_count": 123,
     "metadata": {},
     "output_type": "execute_result"
    }
   ],
   "source": [
    "t = torch.arange(0, 10); t\n",
    "\n",
    "t.chunk(2)"
   ]
  },
  {
   "cell_type": "markdown",
   "metadata": {},
   "source": [
    "```\n",
    "x * ih -> [batch_size, ni] * [ni, 4*nh] = [batch_size, 4*nh]\n",
    "h * hh -> [batch_size, nh] * [nh, 4*nh] = [batch_size, 4*nh]\n",
    "gates = (x * ih) + (h * hh) -> [batch_size, 4*nh]\n",
    "\n",
    "ingate, forgetgate, outgate, cellgate = gates.chunk(4, 1)\n",
    "\n",
    "\n",
    "ingate = sigmoid([batch_size, nh])\n",
    "forgetgate = sigmoid([batch_size, nh])\n",
    "outgate = sigmoid([batch_size, nh])\n",
    "cellgate = tanh([batch_size, nh])\n",
    "\n",
    "c = (forgetgate * c) + (ingate * tanh(cellgate))\n",
    "h = outgate * tanh(c)\n",
    "```\n"
   ]
  },
  {
   "cell_type": "code",
   "execution_count": null,
   "metadata": {},
   "outputs": [],
   "source": []
  },
  {
   "cell_type": "markdown",
   "metadata": {},
   "source": [
    "### detour of detach"
   ]
  },
  {
   "cell_type": "code",
   "execution_count": null,
   "metadata": {},
   "outputs": [],
   "source": [
    "import torch\n",
    "\n",
    "# Creating a simple computation graph\n",
    "x = torch.tensor([2.], requires_grad=True)\n",
    "y = x * 2\n",
    "\n",
    "# Without detach\n",
    "z = y * y  # z = (x * 2) * (x * 2) = 4x^2\n",
    "z.backward()  # Computes gradients for the whole graph\n",
    "gradients_without_detach = x.grad.item()  # Should be dz/dx = 8x, which is 16 when x = 2\n",
    "\n",
    "# Resetting gradients\n",
    "x.grad.data.zero_()\n",
    "\n",
    "# With detach\n",
    "y_detached = y.detach()  # y_detached is a new tensor with the same value as y but no history of operations\n",
    "# No need to call z.backward() because y_detached has no grad_fn\n",
    "# and thus won't contribute to gradients in x\n",
    "\n",
    "# The gradient of x should still be zero since the detached part does not contribute to the computation\n",
    "gradients_with_detach = x.grad.item()\n",
    "\n",
    "gradients_without_detach, gradients_with_detach\n"
   ]
  },
  {
   "cell_type": "code",
   "execution_count": null,
   "metadata": {},
   "outputs": [],
   "source": [
    "## torch.stack()\n",
    "lst = [torch.rand(2, 3) for i in range(3)]\n",
    "print([x.shape for x in lst])\n",
    "\n",
    "# stacking on dimension 1 maintains batch dimension, second dimension (1) becomes the timesteps\n",
    "torch.stack(lst, dim=1).shape, torch.stack(lst, dim=1)"
   ]
  },
  {
   "cell_type": "code",
   "execution_count": null,
   "metadata": {},
   "outputs": [],
   "source": [
    "torch.stack(lst, dim=0).shape, torch.stack(lst, dim=0)"
   ]
  },
  {
   "cell_type": "code",
   "execution_count": null,
   "metadata": {},
   "outputs": [],
   "source": []
  },
  {
   "cell_type": "code",
   "execution_count": null,
   "metadata": {},
   "outputs": [],
   "source": []
  },
  {
   "cell_type": "code",
   "execution_count": null,
   "metadata": {},
   "outputs": [],
   "source": []
  }
 ],
 "metadata": {
  "kernelspec": {
   "display_name": "_venv",
   "language": "python",
   "name": "python3"
  },
  "language_info": {
   "codemirror_mode": {
    "name": "ipython",
    "version": 3
   },
   "file_extension": ".py",
   "mimetype": "text/x-python",
   "name": "python",
   "nbconvert_exporter": "python",
   "pygments_lexer": "ipython3",
   "version": "3.9.13"
  }
 },
 "nbformat": 4,
 "nbformat_minor": 2
}
