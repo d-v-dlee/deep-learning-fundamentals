{
 "cells": [
  {
   "cell_type": "markdown",
   "metadata": {},
   "source": [
    "### colab link [tensor puzzles](https://colab.research.google.com/github/srush/Tensor-Puzzles/blob/main/Tensor%20Puzzlers.ipynb#scrollTo=e46e4ada)"
   ]
  },
  {
   "cell_type": "code",
   "execution_count": 127,
   "metadata": {},
   "outputs": [],
   "source": [
    "# # grab helper functions provided by tensor puzzles repo https://github.com/srush/Tensor-Puzzles?tab=readme-ov-file\n",
    "# !mkdir util\n",
    "# !wget -q https://github.com/srush/Tensor-Puzzles/raw/main/lib.py util\n",
    "# !touch __init__.py"
   ]
  },
  {
   "cell_type": "code",
   "execution_count": null,
   "metadata": {},
   "outputs": [],
   "source": [
    "from util.lib import draw_examples, make_test, run_test\n",
    "import torch\n",
    "import numpy as np\n",
    "from torchtyping import TensorType as TT\n",
    "tensor = torch.tensor"
   ]
  },
  {
   "cell_type": "code",
   "execution_count": null,
   "metadata": {},
   "outputs": [],
   "source": [
    "def arange(i: int):\n",
    "    \"Use this function to replace a for-loop.\"\n",
    "    return torch.tensor(range(i))\n",
    "\n",
    "draw_examples(\"arange\", [{\"\" : arange(i)} for i in [5, 3, 9]])"
   ]
  },
  {
   "cell_type": "code",
   "execution_count": null,
   "metadata": {},
   "outputs": [],
   "source": [
    "# Example of broadcasting\n",
    "examples = [(arange(4), arange(5)[:, None]) ,\n",
    "            (arange(3)[:, None], arange(2))]\n",
    "draw_examples(\"broadcast\", [{\"a\": a, \"b\":b, \"ret\": a + b} for a, b in examples])"
   ]
  },
  {
   "cell_type": "code",
   "execution_count": null,
   "metadata": {},
   "outputs": [],
   "source": [
    "# to flip to column\n",
    "arange(5), arange(5)[:, None]"
   ]
  },
  {
   "cell_type": "code",
   "execution_count": null,
   "metadata": {},
   "outputs": [],
   "source": [
    "def where(q, a, b):\n",
    "    \"Use this function to replace an if-statement.\"\n",
    "    return (q * a) + (~q) * b\n",
    "\n",
    "# In diagrams, orange is positive/True, where is zero/False, and blue is negative.\n",
    "\n",
    "examples = [(tensor([False]), tensor([10]), tensor([0])),\n",
    "            (tensor([False, True]), tensor([1, 1]), tensor([-10, 0])),\n",
    "            (tensor([False, True]), tensor([1]), tensor([-10, 0])),\n",
    "            (tensor([[False, True], [True, False]]), tensor([1]), tensor([-10, 0])),\n",
    "            (tensor([[False, True], [True, False]]), tensor([[0], [10]]), tensor([-10, 0])),\n",
    "           ]\n",
    "draw_examples(\"where\", [{\"q\": q, \"a\":a, \"b\":b, \"ret\": where(q, a, b)} for q, a, b in examples])"
   ]
  },
  {
   "cell_type": "code",
   "execution_count": null,
   "metadata": {},
   "outputs": [],
   "source": [
    "~arange(5)"
   ]
  },
  {
   "cell_type": "code",
   "execution_count": null,
   "metadata": {},
   "outputs": [],
   "source": [
    "### puzzle 1\n",
    "def ones_spec(out):\n",
    "    for i in range(len(out)):\n",
    "        out[i] = 1\n",
    "        \n",
    "def ones(i: int) -> TT[\"i\"]:\n",
    "    \"\"\"create tensor of length i, zero out, then add 1\"\"\"\n",
    "    return arange(i) * 0 + 1\n",
    "    \n",
    "test_ones = make_test(\"one\", ones, ones_spec, add_sizes=[\"i\"])"
   ]
  },
  {
   "cell_type": "code",
   "execution_count": null,
   "metadata": {},
   "outputs": [],
   "source": [
    "run_test(test_ones)"
   ]
  },
  {
   "cell_type": "code",
   "execution_count": null,
   "metadata": {},
   "outputs": [],
   "source": [
    "# puzzle 2\n",
    "def sum_spec(a, out):\n",
    "    out[0] = 0\n",
    "    for i in range(len(a)):\n",
    "        out[0] += a[i]\n",
    "        \n",
    "def sum(a: TT[\"i\"]) -> TT[1]:\n",
    "    \"\"\"multiply a (1, X) matrix by a (X, 1) matrix\"\"\"\n",
    "    return (a[None, :] @ ones(len(a))[:, None])[0]\n",
    "\n",
    "test_sum = make_test(\"sum\", sum, sum_spec)"
   ]
  },
  {
   "cell_type": "code",
   "execution_count": null,
   "metadata": {},
   "outputs": [],
   "source": [
    "run_test(test_sum)"
   ]
  },
  {
   "cell_type": "code",
   "execution_count": null,
   "metadata": {},
   "outputs": [],
   "source": [
    "# puzzle 3\n",
    "def outer_spec(a, b, out):\n",
    "    for i in range(len(out)):\n",
    "        for j in range(len(out[0])):\n",
    "            out[i][j] = a[i] * b[j]\n",
    "            \n",
    "def outer(a: TT[\"i\"], b: TT[\"j\"]) -> TT[\"i\", \"j\"]:\n",
    "    \"\"\"goal is (mxn matrix); if a is of length m and b of length n, convert them to (mx1) (1xn) matrices\"\"\"\n",
    "    return a[:, None] @ b[None, :]\n",
    "    \n",
    "test_outer = make_test(\"outer\", outer, outer_spec)"
   ]
  },
  {
   "cell_type": "code",
   "execution_count": null,
   "metadata": {},
   "outputs": [],
   "source": [
    "run_test(test_outer)"
   ]
  },
  {
   "cell_type": "code",
   "execution_count": null,
   "metadata": {},
   "outputs": [],
   "source": []
  }
 ],
 "metadata": {
  "kernelspec": {
   "display_name": "_venv",
   "language": "python",
   "name": "python3"
  },
  "language_info": {
   "codemirror_mode": {
    "name": "ipython",
    "version": 3
   },
   "file_extension": ".py",
   "mimetype": "text/x-python",
   "name": "python",
   "nbconvert_exporter": "python",
   "pygments_lexer": "ipython3",
   "version": "3.9.13"
  }
 },
 "nbformat": 4,
 "nbformat_minor": 2
}
